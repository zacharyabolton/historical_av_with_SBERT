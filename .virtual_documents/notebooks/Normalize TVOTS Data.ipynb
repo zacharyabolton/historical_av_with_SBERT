import json
import sys
import os
import re
import pandas as pd
from definitions import ROOT_DIR

# Add src directory to sys.path
# Adapted from Taras Alenin's answer on StackOverflow at:
# https://stackoverflow.com/a/55623567
src_path = os.path.join(ROOT_DIR, 'src')
if src_path not in sys.path:
    sys.path.insert(0, src_path)

from TVOTS_loader import get_unique_author_strings_and_text_content


data_path = os.path.join(ROOT_DIR, 'data')
lila_letters_data = os.path.join(data_path, 'original/LILA_imposters')

df = get_unique_author_strings_and_text_content(lila_letters_data)


# Get the path where the transformed data will be saved
target_dir = os.path.join(data_path, 'cleaning_in_process/imposters/tvots')

# Create the directory if it doesn't already exist
os.makedirs(target_dir, exist_ok=True)

# Loop through all `author`s in the dataframe and save the `text_content` to
# a .txt file with the name `base_file_name`.
for index, row in df.iterrows():
    author_dir = os.path.join(target_dir, row['author'])
    os.makedirs(author_dir, exist_ok=True)
    with open(
        f"{author_dir}/{row['base_file_name']}.txt", "w", encoding="utf-8"
    ) as f:
        f.write(row['text_content'])


from selenium.webdriver.chrome.service import Service
from selenium import webdriver

# Path to the WebDriver executable
driver_path = "/Applications/chromedriver"

# Initialize the WebDriver
service = Service(driver_path)
options = webdriver.ChromeOptions()
driver = webdriver.Chrome(service=service, options=options)

type(driver)


type(True)



