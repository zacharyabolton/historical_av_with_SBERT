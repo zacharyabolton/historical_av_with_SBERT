import sys
import os
from torch.utils.data import DataLoader
import torch
from constants import ROOT_DIR, MODEL, LEARNING_RATE

# Add src directory to sys.path
# Adapted from Taras Alenin's answer on StackOverflow at:
# https://stackoverflow.com/a/55623567
src_path = os.path.join(ROOT_DIR, 'src')
if src_path not in sys.path:
    sys.path.insert(0, src_path)

# Import custom modules
from prototype import SiameseBERT, ContrastiveLoss  # noqa: E402
import dataset  # noqa: E402

# Try to use machines parallelism by setting env variable
os.environ["TOKENIZERS_PARALLELISM"] = "true"


#############################################################################
# MODEL INSTANTIATION
#############################################################################

# Instantiate custom Siamese SBERT model
model = SiameseBERT(MODEL)

# Instantiate custom contrastive loss function
# TODO: Consider implementing 'modified contrastive loss' from
# https://yann.lecun.com/exdb/publis/pdf/hadsell-chopra-lecun-06.pdf [18]
# and
# Tyo Et. Al (2021) [15]
loss_function = ContrastiveLoss(margin=10.0)

# Instantiate Adam optimizer
optimizer = torch.optim.Adam(model.parameters(), lr=LEARNING_RATE)


#############################################################################
# DATASET/LOADER INSTANTIATION
#############################################################################

train_ds = dataset.CustomDataset('data/normalized/undistorted', evaluate=False)



