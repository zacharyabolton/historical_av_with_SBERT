import json
import sys
import os
import re
import pandas as pd
from definitions import ROOT_DIR

# Add src directory to sys.path
# Adapted from Taras Alenin's answer on StackOverflow at:
# https://stackoverflow.com/a/55623567
src_path = os.path.join(ROOT_DIR, 'src')
if src_path not in sys.path:
    sys.path.insert(0, src_path)

from author_getter import get_unique_author_strings


data_path = os.path.join(ROOT_DIR, 'data')
lila_letters_metadata = os.path.join(
    data_path,
    'original/LILA_imposters/metadata')


get_unique_author_strings(lila_letters_metadata)
