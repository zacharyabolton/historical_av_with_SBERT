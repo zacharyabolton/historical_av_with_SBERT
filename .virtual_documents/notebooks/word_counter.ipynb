import os
import pandas as pd

df = pd.DataFrame(columns=['file', 'num_words'])

class_dir = '../data/cleaned/notA'
output_file_name = 'notA_num_words_table'

for file in os.listdir(class_dir):
    if file.endswith('.txt'):
        with open(os.path.join(class_dir, file)) as f:
            text = f.read()
            words = text.split()
            num_words = len(words)
            row = pd.DataFrame({'file': [file], 'num_words': [num_words]})
            df = pd.concat([df, row])

with open(f'../{output_file_name}.md', 'w') as f:
    f.write(df.to_markdown())


sum(df['num_words'])
