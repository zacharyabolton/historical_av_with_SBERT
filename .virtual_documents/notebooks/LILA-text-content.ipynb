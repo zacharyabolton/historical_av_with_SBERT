import sys
import os
from definitions import ROOT_DIR

# Add src directory to sys.path
# Adapted from Taras Alenin's answer on StackOverflow at:
# https://stackoverflow.com/a/55623567
src_path = os.path.join(ROOT_DIR, 'src')
if src_path not in sys.path:
    sys.path.insert(0, src_path)

from letter_content_getter import get_text_content


data_path = os.path.join(ROOT_DIR, 'data')
lila_letters_content = os.path.join(
    data_path,
    'original/LILA_imposters/content')

get_text_content(lila_letters_content)


type(dict())



