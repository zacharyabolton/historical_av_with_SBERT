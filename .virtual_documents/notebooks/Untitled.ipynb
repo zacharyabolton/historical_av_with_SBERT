import sys
import os
from bs4 import BeautifulSoup
from definitions import ROOT_DIR

# Add src directory to sys.path
# Adapted from Taras Alenin's answer on StackOverflow at:
# https://stackoverflow.com/a/55623567
src_path = os.path.join(ROOT_DIR, 'src')
if src_path not in sys.path:
    sys.path.insert(0, src_path)


data_path = os.path.join(ROOT_DIR, 'data')
lila_letters_content = os.path.join(
    data_path,
    'original/LILA_imposters/content')

for file in os.listdir(lila_letters_content):
    if file.endswith('.html'):
        with open(os.path.join(lila_letters_content, file)) as hc:
            soup = BeautifulSoup(hc, "html.parser")
            # Adapted from code by Theo Vasilis found at https://blog.apify.com/beautifulsoup-find-by-class/
            body = soup.find_all(class_='source__body')
            contents = ''.join(
                body[i].get_text()
                for i
                in range(len(body)))




