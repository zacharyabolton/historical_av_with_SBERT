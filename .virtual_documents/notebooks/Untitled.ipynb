# Data loading
# Based on Bolton (2024) [5]:
# [5] Bolton, Z. 2024. True Love or Lost Cause. Gist 34bd09f76f94111ac0113fb5da1ea14e. Retrieved November 8, 2024 from https://gist.github.com/zacharyabolton/34bd09f76f94111ac0113fb5da1ea14e


# LaSalle's works
folder_A = 'data/cleaned/A'
# Imposter works
folder_notA = 'data/cleaned/notA'


# Read in all files
files_A = get_txt_filenames(folder_A)
files_notA = get_txt_filenames(folder_notA)


# Combine all files
text_A = combine_text_files(folder_A, files_A)
text_notA = combine_text_files(folder_notA, files_notA)
