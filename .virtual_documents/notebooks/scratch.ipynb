import sys
import os
import pandas as pd

# Get the relevant directories
project_root = os.getcwd()
src_path = os.path.join(project_root, 'src')

# Add src directory to sys.path
# Adapted from Taras Alenin's answer on StackOverflow at:
# https://stackoverflow.com/a/55623567
if src_path not in sys.path:
    sys.path.insert(0, src_path)

# Import my custom modules
import dataset  # noqa: E402


#######################
# Preprocessing
#######################

# Create dummy sentences of known authorship
dummy_A_texts = ["dummy A text {}".format(i) for i in range(2)]
# Create dummy sentences of unknown authorship
dummy_notA_texts = ["dummy Imposter text {}".format(i) for i in range(2)]

# Create dummy training pairs
dummy_training_pairs = dataset.create_training_pairs(
    dummy_A_texts,
    dummy_notA_texts
)


dummy_training_pairs
# test_data_set = CustomDataset("data/cleaned")


custom_dataset = dataset.CustomDataset('data/test')
tokens = custom_dataset._A_tokens
type(tokens)
