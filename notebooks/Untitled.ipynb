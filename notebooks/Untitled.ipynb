{
 "cells": [
  {
   "cell_type": "code",
   "execution_count": null,
   "id": "98b0de5d-9579-4971-99a1-7705eb42ff9b",
   "metadata": {},
   "outputs": [],
   "source": [
    "# Data loading\n",
    "# Based on Bolton (2024) [5]:\n",
    "# [5] Bolton, Z. 2024. True Love or Lost Cause. Gist 34bd09f76f94111ac0113fb5da1ea14e. Retrieved November 8, 2024 from https://gist.github.com/zacharyabolton/34bd09f76f94111ac0113fb5da1ea14e"
   ]
  },
  {
   "cell_type": "code",
   "execution_count": null,
   "id": "5905203e-f2e4-4694-8a79-0987e6d929c8",
   "metadata": {},
   "outputs": [],
   "source": [
    "# LaSalle's works\n",
    "folder_A = 'data/cleaned/A'\n",
    "# Imposter works\n",
    "folder_notA = 'data/cleaned/notA'"
   ]
  },
  {
   "cell_type": "code",
   "execution_count": null,
   "id": "b503cd8f-ff22-4667-853f-f8cbbbbf5e21",
   "metadata": {},
   "outputs": [],
   "source": [
    "# Read in all files\n",
    "files_A = get_txt_filenames(folder_A)\n",
    "files_notA = get_txt_filenames(folder_notA)"
   ]
  },
  {
   "cell_type": "code",
   "execution_count": null,
   "id": "517b884e-0372-4284-9b95-acf20ebaee2b",
   "metadata": {},
   "outputs": [],
   "source": [
    "# Combine all files\n",
    "text_A = combine_text_files(folder_A, files_A)\n",
    "text_notA = combine_text_files(folder_notA, files_notA)"
   ]
  }
 ],
 "metadata": {
  "kernelspec": {
   "display_name": "Historical AV with SBERT Project Specific Kernel",
   "language": "python",
   "name": "historical_av_with_sbert-env"
  },
  "language_info": {
   "codemirror_mode": {
    "name": "ipython",
    "version": 3
   },
   "file_extension": ".py",
   "mimetype": "text/x-python",
   "name": "python",
   "nbconvert_exporter": "python",
   "pygments_lexer": "ipython3",
   "version": "3.9.20"
  }
 },
 "nbformat": 4,
 "nbformat_minor": 5
}
