{
 "cells": [
  {
   "cell_type": "code",
   "execution_count": 1,
   "id": "f9761f14-96e9-4a4f-85e2-a97596a8a966",
   "metadata": {},
   "outputs": [],
   "source": [
    "import sys\n",
    "import os\n",
    "from constants import ROOT_DIR\n",
    "import pandas as pd\n",
    "import random\n",
    "\n",
    "# Add src directory to sys.path\n",
    "# Adapted from Taras Alenin's answer on StackOverflow at:\n",
    "# https://stackoverflow.com/a/55623567\n",
    "src_path = os.path.join(ROOT_DIR, 'src')\n",
    "if src_path not in sys.path:\n",
    "    sys.path.insert(0, src_path)\n",
    "\n",
    "# Import custom modules\n",
    "from lila_dataset import LILADataset  # noqa: E402"
   ]
  },
  {
   "cell_type": "code",
   "execution_count": 2,
   "id": "bcc2c50c-ef6b-4f3d-8137-f5716cab90ba",
   "metadata": {},
   "outputs": [],
   "source": [
    "def convert_pair(pid, p, v):\n",
    "    anchor_ids = p[0]['input_ids'].squeeze().tolist()[1:-1]\n",
    "    other_ids = p[1]['input_ids'].squeeze().tolist()[1:-1]\n",
    "    truth = p[2]\n",
    "\n",
    "    return (pid,\n",
    "            [' '.join([v[a_id] for a_id in anchor_ids]),\n",
    "             ' '.join([v[o_id] for o_id in other_ids])]), (pid, truth)\n",
    "\n",
    "\n",
    "def convert_pairs(dataset, vocab):\n",
    "    converted_pairs = []\n",
    "    truths = []\n",
    "\n",
    "    for pid, p in enumerate(dataset):\n",
    "        pair, truth = convert_pair(pid, p, vocab)\n",
    "        converted_pairs.append(pair)\n",
    "        truths.append(truth)\n",
    "\n",
    "    return converted_pairs, truths\n",
    "\n",
    "\n",
    "def save_pairs(ps, ts, view, fold, train):\n",
    "    df_p = pd.DataFrame(ps, columns=['id', 'pair'])\n",
    "    df_t = pd.DataFrame(ts, columns=['id', 'same'])\n",
    "\n",
    "    output_dir = (\"../data/test/bias-investigation/\"\n",
    "                  f\"{'train' if train else 'validate'}/{view}/k_{fold}\")\n",
    "    if not os.path.exists(output_dir):\n",
    "        os.makedirs(output_dir, exist_ok=True)\n",
    "\n",
    "    # Write the pairs to JSONL\n",
    "    pairs_path = os.path.join(output_dir, 'pairs.jsonl')\n",
    "    with open(pairs_path, 'w') as f:\n",
    "        f.write(df_p.to_json(orient='records', lines=True))\n",
    "        print(f\"Wrote pairs to {pairs_path}\")\n",
    "\n",
    "    truths_path = os.path.join(output_dir, 'truth.jsonl')\n",
    "    with open(truths_path, 'w') as f:\n",
    "        f.write(df_t.to_json(orient='records', lines=True))\n",
    "        print(f\"Wrote truths to {truths_path}\")"
   ]
  },
  {
   "cell_type": "code",
   "execution_count": 3,
   "id": "1cf99c2c-28d9-41c8-8435-2b1b732a4988",
   "metadata": {},
   "outputs": [
    {
     "name": "stderr",
     "output_type": "stream",
     "text": [
      "Token indices sequence length is longer than the specified maximum sequence length for this model (24306 > 512). Running this sequence through the model will result in indexing errors\n"
     ]
    },
    {
     "name": "stdout",
     "output_type": "stream",
     "text": [
      "Wrote pairs to ../data/test/bias-investigation/train/DV-MA-k-20000/k_0/pairs.jsonl\n",
      "Wrote truths to ../data/test/bias-investigation/train/DV-MA-k-20000/k_0/truth.jsonl\n",
      "Wrote pairs to ../data/test/bias-investigation/validate/DV-MA-k-20000/k_0/pairs.jsonl\n",
      "Wrote truths to ../data/test/bias-investigation/validate/DV-MA-k-20000/k_0/truth.jsonl\n"
     ]
    }
   ],
   "source": [
    "# Reset any existing splits\n",
    "LILADataset.reset_splits()\n",
    "\n",
    "view = 'DV-MA-k-20000'\n",
    "view_path = f'../data/normalized/{view}'\n",
    "metadata_path = '../data/normalized/metadata.csv'\n",
    "\n",
    "# Instantiate the full LILA dataset\n",
    "# Split the dataset 80/20 train/val (equivalent to getting the first fold\n",
    "# in 5-fold cross val)\n",
    "num_folds = 5\n",
    "full_dataset = LILADataset(view_path,\n",
    "                           metadata_path,\n",
    "                           cnk_size=512,\n",
    "                           num_pairs=20_720,\n",
    "                           num_folds=num_folds)\n",
    "\n",
    "for k in range(num_folds):\n",
    "    if k > 0:\n",
    "        break\n",
    "    train_dataset, val_dataset = full_dataset.get_train_val_datasets(k)\n",
    "    # Get the models vocabulary for converting ids back to words\n",
    "    # Adapted from:\n",
    "    # https://discuss.huggingface.co/t/find-the-eqivalent-for-word-index-in-bert/13170\n",
    "    vocab = full_dataset.tokenizer.vocab\n",
    "    # Swap keys and values to be {id: word} for quicker lookups\n",
    "    # Adapted from:\n",
    "    # https://stackoverflow.com/a/13149770\n",
    "    vocab = {v: k for v, k in zip(list(vocab.values()),\n",
    "                                  list(vocab.keys()))}\n",
    "\n",
    "    # Run the conversion and saving pipeline\n",
    "    train_pairs = random.sample(train_dataset._pairs,\n",
    "                                len(train_dataset._pairs))\n",
    "    train_pairs, train_truths = convert_pairs(train_pairs, vocab)\n",
    "    save_pairs(train_pairs, train_truths, view=view, fold=k,\n",
    "               train=True)\n",
    "\n",
    "    val_pairs = random.sample(val_dataset._pairs,\n",
    "                              len(val_dataset._pairs))\n",
    "    val_pairs, val_truths = convert_pairs(val_pairs, vocab)\n",
    "    save_pairs(val_pairs, val_truths, view=view, fold=k, train=False)"
   ]
  },
  {
   "cell_type": "code",
   "execution_count": 4,
   "id": "63232d7c-a5c7-4241-83c5-4d5ac5be13e8",
   "metadata": {},
   "outputs": [],
   "source": [
    "train_pairs_file = '../data/test/bias-investigation/train/DV-MA-k-20000/k_0/pairs.jsonl'\n",
    "train_truths_file = '../data/test/bias-investigation/train/DV-MA-k-20000/k_0/truth.jsonl'\n",
    "val_pairs_file = '../data/test/bias-investigation/validate/DV-MA-k-20000/k_0/pairs.jsonl'\n",
    "val_truths_file = '../data/test/bias-investigation/validate/DV-MA-k-20000/k_0/truth.jsonl'"
   ]
  },
  {
   "cell_type": "code",
   "execution_count": 5,
   "id": "9ac2e340-842a-4ec5-8b9b-f6d83edff3fa",
   "metadata": {},
   "outputs": [],
   "source": [
    "df_train_pairs = pd.read_json(train_pairs_file, lines=True)\n",
    "df_train_truths = pd.read_json(train_truths_file, lines=True)\n",
    "df_val_pairs = pd.read_json(val_pairs_file, lines=True)\n",
    "df_val_truths = pd.read_json(val_truths_file, lines=True)"
   ]
  },
  {
   "cell_type": "code",
   "execution_count": 26,
   "id": "75d887a6-a7f2-4c8b-8367-5b64ce0f8f2a",
   "metadata": {},
   "outputs": [],
   "source": [
    "investigation_samples_markdown = ''\n",
    "for i in range(10):\n",
    "    rand_train_idx = random.randrange(0, len(df_train_pairs))\n",
    "    rand_val_idx = random.randrange(0, len(df_val_pairs))\n",
    "    train_anchor = df_train_pairs.iloc[rand_train_idx]['pair'][0]\n",
    "    train_other = df_train_pairs.iloc[rand_train_idx]['pair'][1]\n",
    "    train_label = df_train_truths.iloc[rand_train_idx]['same']\n",
    "    val_anchor = df_val_pairs.iloc[rand_val_idx]['pair'][0]\n",
    "    val_other = df_val_pairs.iloc[rand_val_idx]['pair'][1]\n",
    "    val_label = df_val_truths.iloc[rand_val_idx]['same']\n",
    "    investigation_samples_markdown += f\"## SAMPLE {i+1}\\n\"\n",
    "    investigation_samples_markdown += f\"### TRAIN SAMPLE {i+1}\\n\"\n",
    "    investigation_samples_markdown += '- **' + ('Same-Author'\n",
    "                                                if train_label == 1\n",
    "                                                else 'Different-Author') + '**'\n",
    "    investigation_samples_markdown += '\\n'\n",
    "    investigation_samples_markdown += f\"  - _Anchor_:\\n    - >{train_anchor}\\n\"\n",
    "    investigation_samples_markdown += f\"  - _Other_:\\n    - >{train_other}\\n\"\n",
    "    investigation_samples_markdown += f\"### VAL SAMPLE {i+1}\\n\"\n",
    "    investigation_samples_markdown += '- **' + ('Same-Author'\n",
    "                                                if val_label == 1\n",
    "                                                else 'Different-Author') + '**'\n",
    "    investigation_samples_markdown += '\\n'\n",
    "    investigation_samples_markdown += f\"  - _Anchor_:\\n    - >{val_anchor}\\n\"\n",
    "    investigation_samples_markdown += f\"  - _Other_:\\n    - >{val_other}\\n\"\n",
    "    investigation_samples_markdown += '\\n---\\n'\n",
    "\n",
    "with open('./bias_investigation_samples.md', 'w') as f:\n",
    "    f.write(investigation_samples_markdown)"
   ]
  },
  {
   "cell_type": "code",
   "execution_count": null,
   "id": "8635b686-2438-411a-a7ff-1b4d4979b22f",
   "metadata": {},
   "outputs": [],
   "source": []
  }
 ],
 "metadata": {
  "kernelspec": {
   "display_name": "Historical AV with SBERT Project Specific Kernel",
   "language": "python",
   "name": "historical_av_with_sbert-env"
  },
  "language_info": {
   "codemirror_mode": {
    "name": "ipython",
    "version": 3
   },
   "file_extension": ".py",
   "mimetype": "text/x-python",
   "name": "python",
   "nbconvert_exporter": "python",
   "pygments_lexer": "ipython3",
   "version": "3.9.20"
  }
 },
 "nbformat": 4,
 "nbformat_minor": 5
}
