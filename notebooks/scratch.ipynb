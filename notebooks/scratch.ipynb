{
 "cells": [
  {
   "cell_type": "code",
   "execution_count": 1,
   "id": "bee54d53-9b8e-4f2a-a919-8768cfb4fc60",
   "metadata": {},
   "outputs": [],
   "source": [
    "import sys\n",
    "import os\n",
    "import pandas as pd\n",
    "\n",
    "# Get the relevant directories\n",
    "project_root = os.getcwd()\n",
    "src_path = os.path.join(project_root, 'src')\n",
    "\n",
    "# Add src directory to sys.path\n",
    "# Adapted from Taras Alenin's answer on StackOverflow at:\n",
    "# https://stackoverflow.com/a/55623567\n",
    "if src_path not in sys.path:\n",
    "    sys.path.insert(0, src_path)\n",
    "\n",
    "# Import my custom modules\n",
    "import dataset  # noqa: E402"
   ]
  },
  {
   "cell_type": "code",
   "execution_count": 2,
   "id": "46f96d25-af15-4260-9c3d-5156eb66c29d",
   "metadata": {},
   "outputs": [
    {
     "data": {
      "text/html": [
       "<div>\n",
       "<style scoped>\n",
       "    .dataframe tbody tr th:only-of-type {\n",
       "        vertical-align: middle;\n",
       "    }\n",
       "\n",
       "    .dataframe tbody tr th {\n",
       "        vertical-align: top;\n",
       "    }\n",
       "\n",
       "    .dataframe thead th {\n",
       "        text-align: right;\n",
       "    }\n",
       "</style>\n",
       "<table border=\"1\" class=\"dataframe\">\n",
       "  <thead>\n",
       "    <tr style=\"text-align: right;\">\n",
       "      <th></th>\n",
       "      <th>Sentence A</th>\n",
       "      <th>Sentence B</th>\n",
       "      <th>Label</th>\n",
       "    </tr>\n",
       "  </thead>\n",
       "  <tbody>\n",
       "    <tr>\n",
       "      <th>0</th>\n",
       "      <td>dummy A text 0</td>\n",
       "      <td>dummy A text 1</td>\n",
       "      <td>1</td>\n",
       "    </tr>\n",
       "    <tr>\n",
       "      <th>1</th>\n",
       "      <td>dummy A text 1</td>\n",
       "      <td>dummy Imposter text 0</td>\n",
       "      <td>0</td>\n",
       "    </tr>\n",
       "  </tbody>\n",
       "</table>\n",
       "</div>"
      ],
      "text/plain": [
       "       Sentence A             Sentence B  Label\n",
       "0  dummy A text 0         dummy A text 1      1\n",
       "1  dummy A text 1  dummy Imposter text 0      0"
      ]
     },
     "execution_count": 2,
     "metadata": {},
     "output_type": "execute_result"
    }
   ],
   "source": [
    "#######################\n",
    "# Preprocessing\n",
    "#######################\n",
    "\n",
    "# Create dummy sentences of known authorship\n",
    "dummy_A_texts = [\"dummy A text {}\".format(i) for i in range(2)]\n",
    "# Create dummy sentences of unknown authorship\n",
    "dummy_notA_texts = [\"dummy Imposter text {}\".format(i) for i in range(2)]\n",
    "\n",
    "# Create dummy training pairs\n",
    "dummy_training_pairs = dataset.create_training_pairs(\n",
    "    dummy_A_texts,\n",
    "    dummy_notA_texts\n",
    ")\n",
    "\n",
    "\n",
    "dummy_training_pairs\n",
    "# test_data_set = CustomDataset(\"data/cleaned\")"
   ]
  },
  {
   "cell_type": "code",
   "execution_count": 5,
   "id": "bc50b280-e020-4d2e-91d1-b6c1705ce741",
   "metadata": {},
   "outputs": [
    {
     "data": {
      "text/plain": [
       "transformers.tokenization_utils_base.BatchEncoding"
      ]
     },
     "execution_count": 5,
     "metadata": {},
     "output_type": "execute_result"
    }
   ],
   "source": [
    "custom_dataset = dataset.CustomDataset('data/test')\n",
    "tokens = custom_dataset._A_tokens\n",
    "type(tokens)"
   ]
  }
 ],
 "metadata": {
  "kernelspec": {
   "display_name": "Historical AV with SBERT Project Specific Kernel",
   "language": "python",
   "name": "historical_av_with_sbert-env"
  },
  "language_info": {
   "codemirror_mode": {
    "name": "ipython",
    "version": 3
   },
   "file_extension": ".py",
   "mimetype": "text/x-python",
   "name": "python",
   "nbconvert_exporter": "python",
   "pygments_lexer": "ipython3",
   "version": "3.9.20"
  }
 },
 "nbformat": 4,
 "nbformat_minor": 5
}
