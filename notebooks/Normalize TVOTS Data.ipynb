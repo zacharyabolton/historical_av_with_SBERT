{
 "cells": [
  {
   "cell_type": "code",
   "execution_count": 1,
   "id": "b99f01ba-d986-4529-8423-4ac158795f6d",
   "metadata": {},
   "outputs": [],
   "source": [
    "import json\n",
    "import sys\n",
    "import os\n",
    "import re\n",
    "import pandas as pd\n",
    "from constants import ROOT_DIR\n",
    "\n",
    "# Add src directory to sys.path\n",
    "# Adapted from Taras Alenin's answer on StackOverflow at:\n",
    "# https://stackoverflow.com/a/55623567\n",
    "src_path = os.path.join(ROOT_DIR, 'src')\n",
    "if src_path not in sys.path:\n",
    "    sys.path.insert(0, src_path)\n",
    "\n",
    "from TVOTS_loader import get_unique_author_strings_and_text_content"
   ]
  },
  {
   "cell_type": "code",
   "execution_count": 2,
   "id": "6889c04e-23a1-41ae-8b05-7e90c0f6b8c4",
   "metadata": {},
   "outputs": [],
   "source": [
    "data_path = os.path.join(ROOT_DIR, 'data')\n",
    "lila_letters_data = os.path.join(data_path, 'original/LILA_imposters')\n",
    "\n",
    "df = get_unique_author_strings_and_text_content(lila_letters_data)"
   ]
  },
  {
   "cell_type": "code",
   "execution_count": 4,
   "id": "2a3541b9-4c62-4c1e-b72f-7e2298dee31f",
   "metadata": {},
   "outputs": [],
   "source": [
    "# Get the path where the transformed data will be saved\n",
    "target_dir = os.path.join(data_path, 'cleaning_in_process/imposters/tvots')\n",
    "\n",
    "# Create the directory if it doesn't already exist\n",
    "os.makedirs(target_dir, exist_ok=True)\n",
    "\n",
    "# Loop through all `author`s in the dataframe and save the `text_content` to\n",
    "# a .txt file with the name `base_file_name`.\n",
    "for index, row in df.iterrows():\n",
    "    author_dir = os.path.join(target_dir, row['author'])\n",
    "    os.makedirs(author_dir, exist_ok=True)\n",
    "    with open(\n",
    "        f\"{author_dir}/{row['base_file_name']}.txt\", \"w\", encoding=\"utf-8\"\n",
    "    ) as f:\n",
    "        f.write(row['text_content'])"
   ]
  },
  {
   "cell_type": "code",
   "execution_count": 7,
   "id": "79fc04a5-87b1-4e4f-b519-2ce92eb8c490",
   "metadata": {},
   "outputs": [
    {
     "data": {
      "text/plain": [
       "selenium.webdriver.chrome.webdriver.WebDriver"
      ]
     },
     "execution_count": 7,
     "metadata": {},
     "output_type": "execute_result"
    }
   ],
   "source": [
    "from selenium.webdriver.chrome.service import Service\n",
    "from selenium import webdriver\n",
    "\n",
    "# Path to the WebDriver executable\n",
    "driver_path = \"/Applications/chromedriver\"\n",
    "\n",
    "# Initialize the WebDriver\n",
    "service = Service(driver_path)\n",
    "options = webdriver.ChromeOptions()\n",
    "driver = webdriver.Chrome(service=service, options=options)\n",
    "\n",
    "type(driver)"
   ]
  },
  {
   "cell_type": "code",
   "execution_count": 8,
   "id": "4007ef17-6baa-4ebe-a160-82f21312d3ab",
   "metadata": {},
   "outputs": [
    {
     "data": {
      "text/plain": [
       "bool"
      ]
     },
     "execution_count": 8,
     "metadata": {},
     "output_type": "execute_result"
    }
   ],
   "source": [
    "type(True)"
   ]
  },
  {
   "cell_type": "code",
   "execution_count": null,
   "id": "9df941ed-f5f3-43ec-b136-445c4b8b0aae",
   "metadata": {},
   "outputs": [],
   "source": []
  }
 ],
 "metadata": {
  "kernelspec": {
   "display_name": "Historical AV with SBERT Project Specific Kernel",
   "language": "python",
   "name": "historical_av_with_sbert-env"
  },
  "language_info": {
   "codemirror_mode": {
    "name": "ipython",
    "version": 3
   },
   "file_extension": ".py",
   "mimetype": "text/x-python",
   "name": "python",
   "nbconvert_exporter": "python",
   "pygments_lexer": "ipython3",
   "version": "3.9.20"
  }
 },
 "nbformat": 4,
 "nbformat_minor": 5
}
