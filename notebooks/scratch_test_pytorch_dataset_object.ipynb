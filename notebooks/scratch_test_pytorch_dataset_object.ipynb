{
 "cells": [
  {
   "cell_type": "code",
   "execution_count": 1,
   "id": "9a653a86-6449-4010-b763-10a7b949c7d1",
   "metadata": {},
   "outputs": [],
   "source": [
    "import sys\n",
    "import os\n",
    "from torch.utils.data import DataLoader\n",
    "import torch\n",
    "from constants import ROOT_DIR, MODEL, LEARNING_RATE\n",
    "\n",
    "# Add src directory to sys.path\n",
    "# Adapted from Taras Alenin's answer on StackOverflow at:\n",
    "# https://stackoverflow.com/a/55623567\n",
    "src_path = os.path.join(ROOT_DIR, 'src')\n",
    "if src_path not in sys.path:\n",
    "    sys.path.insert(0, src_path)\n",
    "\n",
    "# Import custom modules\n",
    "from prototype import SiameseBERT, ContrastiveLoss  # noqa: E402\n",
    "import dataset  # noqa: E402\n",
    "\n",
    "# Try to use machines parallelism by setting env variable\n",
    "os.environ[\"TOKENIZERS_PARALLELISM\"] = \"true\""
   ]
  },
  {
   "cell_type": "code",
   "execution_count": 3,
   "id": "caac4db3-a139-43a6-b306-798436f40e83",
   "metadata": {},
   "outputs": [],
   "source": [
    "#############################################################################\n",
    "# MODEL INSTANTIATION\n",
    "#############################################################################\n",
    "\n",
    "# Instantiate custom Siamese SBERT model\n",
    "model = SiameseBERT(MODEL)\n",
    "\n",
    "# Instantiate custom contrastive loss function\n",
    "# TODO: Consider implementing 'modified contrastive loss' from\n",
    "# https://yann.lecun.com/exdb/publis/pdf/hadsell-chopra-lecun-06.pdf [18]\n",
    "# and\n",
    "# Tyo Et. Al (2021) [15]\n",
    "loss_function = ContrastiveLoss(margin=10.0)\n",
    "\n",
    "# Instantiate Adam optimizer\n",
    "optimizer = torch.optim.Adam(model.parameters(), lr=LEARNING_RATE)"
   ]
  },
  {
   "cell_type": "code",
   "execution_count": 4,
   "id": "b8291ddf-1660-49e7-9c35-c945ffe0fddc",
   "metadata": {},
   "outputs": [
    {
     "name": "stderr",
     "output_type": "stream",
     "text": [
      "Token indices sequence length is longer than the specified maximum sequence length for this model (304679 > 512). Running this sequence through the model will result in indexing errors\n"
     ]
    },
    {
     "ename": "TypeError",
     "evalue": "_chunk_tokens() missing 1 required positional argument: 'chunk_size'",
     "output_type": "error",
     "traceback": [
      "\u001b[0;31m---------------------------------------------------------------------------\u001b[0m",
      "\u001b[0;31mTypeError\u001b[0m                                 Traceback (most recent call last)",
      "Cell \u001b[0;32mIn[4], line 5\u001b[0m\n\u001b[1;32m      1\u001b[0m \u001b[38;5;66;03m#############################################################################\u001b[39;00m\n\u001b[1;32m      2\u001b[0m \u001b[38;5;66;03m# DATASET/LOADER INSTANTIATION\u001b[39;00m\n\u001b[1;32m      3\u001b[0m \u001b[38;5;66;03m#############################################################################\u001b[39;00m\n\u001b[0;32m----> 5\u001b[0m train_ds \u001b[38;5;241m=\u001b[39m \u001b[43mdataset\u001b[49m\u001b[38;5;241;43m.\u001b[39;49m\u001b[43mCustomDataset\u001b[49m\u001b[43m(\u001b[49m\u001b[38;5;124;43m'\u001b[39;49m\u001b[38;5;124;43mdata/normalized/undistorted\u001b[39;49m\u001b[38;5;124;43m'\u001b[39;49m\u001b[43m,\u001b[49m\u001b[43m \u001b[49m\u001b[43mevaluate\u001b[49m\u001b[38;5;241;43m=\u001b[39;49m\u001b[38;5;28;43;01mFalse\u001b[39;49;00m\u001b[43m)\u001b[49m\n",
      "File \u001b[0;32m~/dev/BSc/FP/historical_av_with_SBERT/src/dataset.py:61\u001b[0m, in \u001b[0;36mCustomDataset.__init__\u001b[0;34m(self, data_dir, evaluate)\u001b[0m\n\u001b[1;32m     58\u001b[0m \u001b[38;5;28mself\u001b[39m\u001b[38;5;241m.\u001b[39m_notA_tokens \u001b[38;5;241m=\u001b[39m \u001b[38;5;28mself\u001b[39m\u001b[38;5;241m.\u001b[39m_tokenize(\u001b[38;5;28mself\u001b[39m\u001b[38;5;241m.\u001b[39m_notA_text)\n\u001b[1;32m     59\u001b[0m \u001b[38;5;28mself\u001b[39m\u001b[38;5;241m.\u001b[39m_U_tokens \u001b[38;5;241m=\u001b[39m \u001b[38;5;28mself\u001b[39m\u001b[38;5;241m.\u001b[39m_tokenize(\u001b[38;5;28mself\u001b[39m\u001b[38;5;241m.\u001b[39m_U_text)\n\u001b[0;32m---> 61\u001b[0m \u001b[38;5;28mself\u001b[39m\u001b[38;5;241m.\u001b[39m_A_chunks \u001b[38;5;241m=\u001b[39m \u001b[38;5;28;43mself\u001b[39;49m\u001b[38;5;241;43m.\u001b[39;49m\u001b[43m_chunk_tokens\u001b[49m\u001b[43m(\u001b[49m\u001b[38;5;28;43mself\u001b[39;49m\u001b[38;5;241;43m.\u001b[39;49m\u001b[43m_A_tokens\u001b[49m\u001b[43m,\u001b[49m\n\u001b[1;32m     62\u001b[0m \u001b[43m                                    \u001b[49m\u001b[38;5;28;43mself\u001b[39;49m\u001b[38;5;241;43m.\u001b[39;49m\u001b[43mevaluate\u001b[49m\u001b[43m)\u001b[49m\n\u001b[1;32m     63\u001b[0m \u001b[38;5;28mself\u001b[39m\u001b[38;5;241m.\u001b[39m_notA_chunks \u001b[38;5;241m=\u001b[39m \u001b[38;5;28mself\u001b[39m\u001b[38;5;241m.\u001b[39m_chunk_tokens(\u001b[38;5;28mself\u001b[39m\u001b[38;5;241m.\u001b[39m_notA_tokens,\n\u001b[1;32m     64\u001b[0m                                        \u001b[38;5;28mself\u001b[39m\u001b[38;5;241m.\u001b[39mevaluate)\n\u001b[1;32m     65\u001b[0m \u001b[38;5;28mself\u001b[39m\u001b[38;5;241m.\u001b[39m_U_chunks \u001b[38;5;241m=\u001b[39m \u001b[38;5;28mself\u001b[39m\u001b[38;5;241m.\u001b[39m_chunk_tokens(\u001b[38;5;28mself\u001b[39m\u001b[38;5;241m.\u001b[39m_U_tokens,\n\u001b[1;32m     66\u001b[0m                                     \u001b[38;5;28mself\u001b[39m\u001b[38;5;241m.\u001b[39mevaluate)\n",
      "\u001b[0;31mTypeError\u001b[0m: _chunk_tokens() missing 1 required positional argument: 'chunk_size'"
     ]
    }
   ],
   "source": [
    "#############################################################################\n",
    "# DATASET/LOADER INSTANTIATION\n",
    "#############################################################################\n",
    "\n",
    "train_ds = dataset.CustomDataset('data/normalized/undistorted', evaluate=False)"
   ]
  },
  {
   "cell_type": "code",
   "execution_count": null,
   "id": "13ec8ac5-6e98-4f57-ae49-a2ca9d7dcfe9",
   "metadata": {},
   "outputs": [],
   "source": []
  }
 ],
 "metadata": {
  "kernelspec": {
   "display_name": "Historical AV with SBERT Project Specific Kernel",
   "language": "python",
   "name": "historical_av_with_sbert-env"
  },
  "language_info": {
   "codemirror_mode": {
    "name": "ipython",
    "version": 3
   },
   "file_extension": ".py",
   "mimetype": "text/x-python",
   "name": "python",
   "nbconvert_exporter": "python",
   "pygments_lexer": "ipython3",
   "version": "3.9.20"
  }
 },
 "nbformat": 4,
 "nbformat_minor": 5
}
