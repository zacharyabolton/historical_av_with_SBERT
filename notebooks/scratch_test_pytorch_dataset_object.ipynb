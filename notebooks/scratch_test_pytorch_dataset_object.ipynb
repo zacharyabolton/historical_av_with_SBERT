{
 "cells": [
  {
   "cell_type": "code",
   "execution_count": 1,
   "id": "9a653a86-6449-4010-b763-10a7b949c7d1",
   "metadata": {},
   "outputs": [],
   "source": [
    "import sys\n",
    "import os\n",
    "from torch.utils.data import DataLoader\n",
    "import torch\n",
    "from constants import ROOT_DIR, MODEL, LEARNING_RATE\n",
    "\n",
    "# Add src directory to sys.path\n",
    "# Adapted from Taras Alenin's answer on StackOverflow at:\n",
    "# https://stackoverflow.com/a/55623567\n",
    "src_path = os.path.join(ROOT_DIR, 'src')\n",
    "if src_path not in sys.path:\n",
    "    sys.path.insert(0, src_path)\n",
    "\n",
    "# Import custom modules\n",
    "from prototype import SiameseBERT, ContrastiveLoss  # noqa: E402\n",
    "from lila_dataset import LILADataset  # noqa: E402\n",
    "\n",
    "# Try to use machines parallelism by setting env variable\n",
    "os.environ[\"TOKENIZERS_PARALLELISM\"] = \"true\""
   ]
  },
  {
   "cell_type": "code",
   "execution_count": 2,
   "id": "caac4db3-a139-43a6-b306-798436f40e83",
   "metadata": {},
   "outputs": [],
   "source": [
    "#############################################################################\n",
    "# MODEL INSTANTIATION\n",
    "#############################################################################\n",
    "\n",
    "# Instantiate custom Siamese SBERT model\n",
    "model = SiameseBERT(MODEL)\n",
    "\n",
    "# Instantiate custom contrastive loss function\n",
    "# TODO: Consider implementing 'modified contrastive loss' from\n",
    "# https://yann.lecun.com/exdb/publis/pdf/hadsell-chopra-lecun-06.pdf [18]\n",
    "# and\n",
    "# Tyo Et. Al (2021) [15]\n",
    "loss_function = ContrastiveLoss(margin=10.0)\n",
    "\n",
    "# Instantiate Adam optimizer\n",
    "optimizer = torch.optim.Adam(model.parameters(), lr=LEARNING_RATE)"
   ]
  },
  {
   "cell_type": "code",
   "execution_count": 3,
   "id": "b8291ddf-1660-49e7-9c35-c945ffe0fddc",
   "metadata": {},
   "outputs": [
    {
     "name": "stderr",
     "output_type": "stream",
     "text": [
      "Token indices sequence length is longer than the specified maximum sequence length for this model (21972 > 512). Running this sequence through the model will result in indexing errors\n"
     ]
    }
   ],
   "source": [
    "#############################################################################\n",
    "# DATASET/LOADER INSTANTIATION\n",
    "#############################################################################\n",
    "\n",
    "train_ds = LILADataset('../data/normalized/undistorted', 512)"
   ]
  },
  {
   "cell_type": "code",
   "execution_count": 4,
   "id": "13ec8ac5-6e98-4f57-ae49-a2ca9d7dcfe9",
   "metadata": {},
   "outputs": [
    {
     "name": "stdout",
     "output_type": "stream",
     "text": [
      "A: 602\n",
      "notA: 4042\n",
      "pairs: 2614185\n"
     ]
    }
   ],
   "source": [
    "A_docs_chunked = [element for sublist\n",
    "                  in train_ds._A_docs_chunked for element\n",
    "                  in sublist]\n",
    "\n",
    "notA_docs_chunked = [element for sublist\n",
    "                  in train_ds._notA_docs_chunked for element\n",
    "                  in sublist]\n",
    "print(\"A:\", len(A_docs_chunked))\n",
    "print(\"notA:\", len(notA_docs_chunked))\n",
    "print(\"pairs:\", len(train_ds._pairs))"
   ]
  },
  {
   "cell_type": "code",
   "execution_count": null,
   "id": "d5a3c9c2-2a42-4275-9c0b-8faa1f03bb12",
   "metadata": {},
   "outputs": [],
   "source": []
  }
 ],
 "metadata": {
  "kernelspec": {
   "display_name": "Historical AV with SBERT Project Specific Kernel",
   "language": "python",
   "name": "historical_av_with_sbert-env"
  },
  "language_info": {
   "codemirror_mode": {
    "name": "ipython",
    "version": 3
   },
   "file_extension": ".py",
   "mimetype": "text/x-python",
   "name": "python",
   "nbconvert_exporter": "python",
   "pygments_lexer": "ipython3",
   "version": "3.9.20"
  }
 },
 "nbformat": 4,
 "nbformat_minor": 5
}
