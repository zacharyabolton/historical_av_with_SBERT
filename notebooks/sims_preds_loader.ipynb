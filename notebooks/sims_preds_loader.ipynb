{
 "cells": [
  {
   "cell_type": "code",
   "execution_count": null,
   "id": "fe3e3a62-cede-4497-8957-4aa9ce7e4bf1",
   "metadata": {},
   "outputs": [],
   "source": [
    "import os\n",
    "import numpy as np"
   ]
  },
  {
   "cell_type": "code",
   "execution_count": null,
   "id": "537820bc-d20c-4f3f-82f2-5f5075ca3830",
   "metadata": {},
   "outputs": [],
   "source": [
    "hedged_sims_path = '/mnt/data/model_out/sims_truths_saving_test/pan20_train_undistorted.csv/sims_truths_saving_test_hedged_similarities.npy'\n",
    "true_sims_path = '/mnt/data/model_out/sims_truths_saving_test/pan20_train_undistorted.csv/sims_truths_saving_test_true_similarities.npy'\n",
    "truths_path = '/mnt/data/model_out/sims_truths_saving_test/pan20_train_undistorted.csv/sims_truths_saving_test_truths.npy'\n",
    "assert os.path.exists(hedged_sims_path)\n",
    "assert os.path.exists(true_sims_path)\n",
    "assert os.path.exists(truths_path)\n",
    "hedged_sims = np.load(hedged_sims_path)\n",
    "true_sims = np.load(true_sims_path)\n",
    "truths = np.load(truths_path)"
   ]
  },
  {
   "cell_type": "code",
   "execution_count": null,
   "id": "9ed96f3d-5422-4d28-a30f-b488ee2962aa",
   "metadata": {},
   "outputs": [],
   "source": [
    "truths.shape"
   ]
  },
  {
   "cell_type": "code",
   "execution_count": null,
   "id": "4243a32b-e66b-40f3-bbfd-2e621d168b7d",
   "metadata": {},
   "outputs": [],
   "source": [
    "truths.tolist()"
   ]
  }
 ],
 "metadata": {
  "kernelspec": {
   "display_name": "Historical AV with SBERT Project Specific Kernel",
   "language": "python",
   "name": "historical_av_with_sbert-env"
  },
  "language_info": {
   "codemirror_mode": {
    "name": "ipython",
    "version": 3
   },
   "file_extension": ".py",
   "mimetype": "text/x-python",
   "name": "python",
   "nbconvert_exporter": "python",
   "pygments_lexer": "ipython3",
   "version": "3.9.20"
  }
 },
 "nbformat": 4,
 "nbformat_minor": 5
}
