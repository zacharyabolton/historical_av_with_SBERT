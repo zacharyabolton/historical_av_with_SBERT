{
 "cells": [
  {
   "cell_type": "code",
   "execution_count": 1,
   "id": "c28efc3f-2514-45a8-acc8-462ae0bb18d1",
   "metadata": {},
   "outputs": [],
   "source": [
    "import numpy as np"
   ]
  },
  {
   "cell_type": "code",
   "execution_count": 2,
   "id": "ec052cfc-2361-4684-974e-dd8b094bdea5",
   "metadata": {},
   "outputs": [],
   "source": [
    "hedged_sims = np.load(\"/Users/zacbolton/dev/BSc/FP/historical_av_with_SBERT\"\n",
    "                      \"/saved_experiments\"\n",
    "                      \"/valla_validation_undistorted_long_brier_investigation\"\n",
    "                      \"/pan20_train_undistorted\"\n",
    "                      \"/valla_validation_undistorted_long_brier_investigation_\"\n",
    "                      \"hedged_similarities.npy\")\n",
    "true_sims = np.load(\"/Users/zacbolton/dev/BSc/FP/historical_av_with_SBERT\"\n",
    "                    \"/saved_experiments\"\n",
    "                    \"/valla_validation_undistorted_long_brier_investigation\"\n",
    "                    \"/pan20_train_undistorted\"\n",
    "                    \"/valla_validation_undistorted_long_brier_investigation_\"\n",
    "                    \"true_similarities.npy\")\n",
    "truths = np.load(\"/Users/zacbolton/dev/BSc/FP/historical_av_with_SBERT\"\n",
    "                 \"/saved_experiments\"\n",
    "                 \"/valla_validation_undistorted_long_brier_investigation\"\n",
    "                 \"/pan20_train_undistorted\"\n",
    "                 \"/valla_validation_undistorted_long_brier_investigation_\"\n",
    "                 \"truths.npy\")"
   ]
  },
  {
   "cell_type": "code",
   "execution_count": 5,
   "id": "0701ebbb-6081-4c44-9a47-9a51b26c8e0a",
   "metadata": {},
   "outputs": [
    {
     "ename": "TypeError",
     "evalue": "object of type 'numpy.float64' has no len()",
     "output_type": "error",
     "traceback": [
      "\u001b[0;31m---------------------------------------------------------------------------\u001b[0m",
      "\u001b[0;31mTypeError\u001b[0m                                 Traceback (most recent call last)",
      "Cell \u001b[0;32mIn[5], line 1\u001b[0m\n\u001b[0;32m----> 1\u001b[0m \u001b[38;5;28mprint\u001b[39m(\u001b[38;5;28;43mlen\u001b[39;49m\u001b[43m(\u001b[49m\u001b[43mhedged_sims\u001b[49m\u001b[43m[\u001b[49m\u001b[38;5;241;43m0\u001b[39;49m\u001b[43m]\u001b[49m\u001b[43m[\u001b[49m\u001b[38;5;241;43m0\u001b[39;49m\u001b[43m]\u001b[49m\u001b[43m)\u001b[49m)\n\u001b[1;32m      2\u001b[0m \u001b[38;5;28mprint\u001b[39m(\u001b[38;5;28mlen\u001b[39m(true_sims[\u001b[38;5;241m0\u001b[39m][\u001b[38;5;241m0\u001b[39m]))\n\u001b[1;32m      3\u001b[0m \u001b[38;5;28mprint\u001b[39m(\u001b[38;5;28mlen\u001b[39m(truths[\u001b[38;5;241m0\u001b[39m][\u001b[38;5;241m0\u001b[39m]))\n",
      "\u001b[0;31mTypeError\u001b[0m: object of type 'numpy.float64' has no len()"
     ]
    }
   ],
   "source": [
    "print(len(hedged_sims[0][0]))\n",
    "print(len(true_sims[0][0]))\n",
    "print(len(truths[0][0]))"
   ]
  },
  {
   "cell_type": "code",
   "execution_count": null,
   "id": "1108ecc2-b1df-48f4-81b3-81f170d2f71e",
   "metadata": {},
   "outputs": [],
   "source": []
  }
 ],
 "metadata": {
  "kernelspec": {
   "display_name": "Historical AV with SBERT Project Specific Kernel",
   "language": "python",
   "name": "historical_av_with_sbert-env"
  },
  "language_info": {
   "codemirror_mode": {
    "name": "ipython",
    "version": 3
   },
   "file_extension": ".py",
   "mimetype": "text/x-python",
   "name": "python",
   "nbconvert_exporter": "python",
   "pygments_lexer": "ipython3",
   "version": "3.9.20"
  }
 },
 "nbformat": 4,
 "nbformat_minor": 5
}
