{
 "cells": [
  {
   "cell_type": "code",
   "execution_count": 1,
   "id": "c28efc3f-2514-45a8-acc8-462ae0bb18d1",
   "metadata": {},
   "outputs": [],
   "source": [
    "import numpy as np"
   ]
  },
  {
   "cell_type": "code",
   "execution_count": 2,
   "id": "ec052cfc-2361-4684-974e-dd8b094bdea5",
   "metadata": {},
   "outputs": [],
   "source": [
    "hedged_sims = np.load(\"/Users/zacbolton/dev/BSc/FP/historical_av_with_SBERT\"\n",
    "                      \"/saved_experiments\"\n",
    "                      \"/valla_validation_undistorted_long_brier_investigation\"\n",
    "                      \"/pan20_train_undistorted\"\n",
    "                      \"/valla_validation_undistorted_long_brier_investigation_\"\n",
    "                      \"hedged_similarities.npy\")\n",
    "true_sims = np.load(\"/Users/zacbolton/dev/BSc/FP/historical_av_with_SBERT\"\n",
    "                    \"/saved_experiments\"\n",
    "                    \"/valla_validation_undistorted_long_brier_investigation\"\n",
    "                    \"/pan20_train_undistorted\"\n",
    "                    \"/valla_validation_undistorted_long_brier_investigation_\"\n",
    "                    \"true_similarities.npy\")\n",
    "truths = np.load(\"/Users/zacbolton/dev/BSc/FP/historical_av_with_SBERT\"\n",
    "                 \"/saved_experiments\"\n",
    "                 \"/valla_validation_undistorted_long_brier_investigation\"\n",
    "                 \"/pan20_train_undistorted\"\n",
    "                 \"/valla_validation_undistorted_long_brier_investigation_\"\n",
    "                 \"truths.npy\")"
   ]
  },
  {
   "cell_type": "code",
   "execution_count": 7,
   "id": "0701ebbb-6081-4c44-9a47-9a51b26c8e0a",
   "metadata": {},
   "outputs": [
    {
     "name": "stdout",
     "output_type": "stream",
     "text": [
      "(1, 14202)\n",
      "(1, 14202)\n",
      "(1, 14202)\n"
     ]
    }
   ],
   "source": [
    "print(hedged_sims.shape)\n",
    "print(true_sims.shape)\n",
    "print(truths.shape)"
   ]
  },
  {
   "cell_type": "code",
   "execution_count": 9,
   "id": "1108ecc2-b1df-48f4-81b3-81f170d2f71e",
   "metadata": {},
   "outputs": [
    {
     "name": "stdout",
     "output_type": "stream",
     "text": [
      "1.0\n",
      "1.0\n",
      "1\n",
      "0.36219085719850325\n",
      "0.33262425661087036\n",
      "0\n"
     ]
    }
   ],
   "source": [
    "print(np.max(hedged_sims))\n",
    "print(np.max(true_sims))\n",
    "print(np.max(truths))\n",
    "print(np.min(hedged_sims))\n",
    "print(np.min(true_sims))\n",
    "print(np.min(truths))"
   ]
  },
  {
   "cell_type": "code",
   "execution_count": 10,
   "id": "bab6a820-527c-4514-a4b3-a6260268c436",
   "metadata": {},
   "outputs": [
    {
     "data": {
      "text/plain": [
       "array([0, 1])"
      ]
     },
     "execution_count": 10,
     "metadata": {},
     "output_type": "execute_result"
    }
   ],
   "source": [
    "np.unique_values(truths)"
   ]
  },
  {
   "cell_type": "code",
   "execution_count": null,
   "id": "fa186849-2717-4e1a-8aa0-3c7519016c03",
   "metadata": {},
   "outputs": [],
   "source": []
  }
 ],
 "metadata": {
  "kernelspec": {
   "display_name": "Historical AV with SBERT Project Specific Kernel",
   "language": "python",
   "name": "historical_av_with_sbert-env"
  },
  "language_info": {
   "codemirror_mode": {
    "name": "ipython",
    "version": 3
   },
   "file_extension": ".py",
   "mimetype": "text/x-python",
   "name": "python",
   "nbconvert_exporter": "python",
   "pygments_lexer": "ipython3",
   "version": "3.9.20"
  }
 },
 "nbformat": 4,
 "nbformat_minor": 5
}
