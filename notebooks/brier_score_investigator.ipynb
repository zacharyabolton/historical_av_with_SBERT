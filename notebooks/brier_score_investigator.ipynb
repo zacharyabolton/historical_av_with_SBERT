{
 "cells": [
  {
   "cell_type": "code",
   "execution_count": 1,
   "id": "c28efc3f-2514-45a8-acc8-462ae0bb18d1",
   "metadata": {},
   "outputs": [],
   "source": [
    "import numpy as np"
   ]
  },
  {
   "cell_type": "code",
   "execution_count": 2,
   "id": "ec052cfc-2361-4684-974e-dd8b094bdea5",
   "metadata": {},
   "outputs": [],
   "source": [
    "hedged_sims = np.load(\"/Users/zacbolton/dev/BSc/FP/historical_av_with_SBERT\"\n",
    "                      \"/saved_experiments\"\n",
    "                      \"/valla_validation_undistorted_long_brier_investigation_2\"\n",
    "                      \"/pan20_train_undistorted\"\n",
    "                      \"/valla_validation_undistorted_long_brier_investigation_\"\n",
    "                      \"hedged_similarities_fold_0_epoch_4.npy\")\n",
    "true_sims = np.load(\"/Users/zacbolton/dev/BSc/FP/historical_av_with_SBERT\"\n",
    "                    \"/saved_experiments\"\n",
    "                    \"/valla_validation_undistorted_long_brier_investigation_2\"\n",
    "                    \"/pan20_train_undistorted\"\n",
    "                    \"/valla_validation_undistorted_long_brier_investigation_\"\n",
    "                    \"true_similarities_fold_0_epoch_4.npy\")\n",
    "truths = np.load(\"/Users/zacbolton/dev/BSc/FP/historical_av_with_SBERT\"\n",
    "                 \"/saved_experiments\"\n",
    "                 \"/valla_validation_undistorted_long_brier_investigation_2\"\n",
    "                 \"/pan20_train_undistorted\"\n",
    "                 \"/valla_validation_undistorted_long_brier_investigation_\"\n",
    "                 \"truths_fold_0_epoch_4.npy\")"
   ]
  },
  {
   "cell_type": "code",
   "execution_count": 7,
   "id": "0701ebbb-6081-4c44-9a47-9a51b26c8e0a",
   "metadata": {},
   "outputs": [
    {
     "name": "stdout",
     "output_type": "stream",
     "text": [
      "Shape of 'Hedged' Sims:  (14202,)\n",
      "Shape of 'True' Sims:  (14202,)\n",
      "Shape of Ground-Truths:  (14202,)\n",
      "Ground-Truth Classes:  [0 1]\n",
      "Min of 'Hedged' Sims:  0.3691041449705759\n",
      "Min of 'True' Sims:  0.33897319436073303\n",
      "Max of 'Hedged' Sims:  1.0000001269838084\n",
      "Max of 'True' Sims:  1.0000001192092896\n"
     ]
    }
   ],
   "source": [
    "print(\"Shape of 'Hedged' Sims: \", hedged_sims.shape)\n",
    "print(\"Shape of 'True' Sims: \", true_sims.shape)\n",
    "print(\"Shape of Ground-Truths: \", truths.shape)\n",
    "print(\"Ground-Truth Classes: \", np.unique_values(truths))\n",
    "print(\"Min of 'Hedged' Sims: \", np.min(hedged_sims))\n",
    "print(\"Min of 'True' Sims: \", np.min(true_sims))\n",
    "print(\"Max of 'Hedged' Sims: \", np.max(hedged_sims))\n",
    "print(\"Max of 'True' Sims: \", np.max(true_sims))"
   ]
  },
  {
   "cell_type": "code",
   "execution_count": 6,
   "id": "1108ecc2-b1df-48f4-81b3-81f170d2f71e",
   "metadata": {},
   "outputs": [
    {
     "name": "stdout",
     "output_type": "stream",
     "text": [
      "1.0000001269838084\n",
      "1.0000001192092896\n",
      "1\n"
     ]
    }
   ],
   "source": []
  },
  {
   "cell_type": "code",
   "execution_count": null,
   "id": "d8cbd512-a021-4b4a-8211-934427e76bdc",
   "metadata": {},
   "outputs": [],
   "source": []
  }
 ],
 "metadata": {
  "kernelspec": {
   "display_name": "Historical AV with SBERT Project Specific Kernel",
   "language": "python",
   "name": "historical_av_with_sbert-env"
  },
  "language_info": {
   "codemirror_mode": {
    "name": "ipython",
    "version": 3
   },
   "file_extension": ".py",
   "mimetype": "text/x-python",
   "name": "python",
   "nbconvert_exporter": "python",
   "pygments_lexer": "ipython3",
   "version": "3.9.20"
  }
 },
 "nbformat": 4,
 "nbformat_minor": 5
}
