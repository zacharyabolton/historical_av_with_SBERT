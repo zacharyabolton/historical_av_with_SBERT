{
 "cells": [
  {
   "cell_type": "code",
   "execution_count": 44,
   "id": "494bebf2-813f-48d1-8955-708fcdb6c5cc",
   "metadata": {},
   "outputs": [],
   "source": [
    "from nltk.probability import FreqDist\n",
    "import os\n",
    "import re"
   ]
  },
  {
   "cell_type": "code",
   "execution_count": 45,
   "id": "49dc04d5-77e9-4d49-b1d3-7bce8a6da4b2",
   "metadata": {},
   "outputs": [],
   "source": [
    "def get_W_k(data_dir, canonical_class_labels):\n",
    "\n",
    "    # Setup the NLTK FeqDist object to calculate the occurances of all words\n",
    "    # in the corpus.\n",
    "    fdist = FreqDist()\n",
    "\n",
    "    # Loop through the sub-directories to collect samples in each input\n",
    "    # class.\n",
    "    for label in canonical_class_labels:\n",
    "        # Create the path to the class samples.\n",
    "        class_dir = os.path.join(data_dir, label)\n",
    "        # Loop through each file in the class directory.\n",
    "        for file in os.listdir(class_dir):\n",
    "            # Only process `.txt` files.\n",
    "            if file.endswith('.txt'):\n",
    "                # Open the file.\n",
    "                with open(os.path.join(class_dir, file)) as f:\n",
    "                    # Read in the file's contents.\n",
    "                    text = f.read()\n",
    "                    # 'Tokenize' the text into words by splitting on\n",
    "                    # whitespace.\n",
    "                    words = text.split()\n",
    "                    # Loop through all the words in the text.\n",
    "                    for word in words:\n",
    "                        # Add or increment each word occurence to the\n",
    "                        # frequency distribution object.\n",
    "                        fdist[word.lower()] += 1\n",
    "\n",
    "    print('unique words', fdist.B())\n",
    "    print('hapax legomena', len(fdist.hapaxes()))\n",
    "    print('proportion', len(fdist.hapaxes())/fdist.B())"
   ]
  },
  {
   "cell_type": "code",
   "execution_count": 46,
   "id": "6105f659-d3f2-466c-b313-f44c69cc1cc9",
   "metadata": {},
   "outputs": [
    {
     "name": "stdout",
     "output_type": "stream",
     "text": [
      "unique words 50928\n",
      "hapax legomena 21879\n",
      "proportion 0.42960650329877476\n"
     ]
    }
   ],
   "source": [
    "# Set the data directory path\n",
    "data_dir = '../data/preprocessed'\n",
    "# Set the class conical names\n",
    "canonical_class_names = ['notA', 'A', 'U']\n",
    "\n",
    "# Get the top `k` most frequent words from the entire corpus.\n",
    "get_W_k(data_dir, canonical_class_names)\n"
   ]
  },
  {
   "cell_type": "code",
   "execution_count": null,
   "id": "d8a1fefe-3843-495d-9cce-3061550e3006",
   "metadata": {},
   "outputs": [],
   "source": []
  },
  {
   "cell_type": "code",
   "execution_count": null,
   "id": "f438399c-c0ae-4a7b-b804-00b8c67540c2",
   "metadata": {},
   "outputs": [],
   "source": []
  }
 ],
 "metadata": {
  "kernelspec": {
   "display_name": "Historical AV with SBERT Project Specific Kernel",
   "language": "python",
   "name": "historical_av_with_sbert-env"
  },
  "language_info": {
   "codemirror_mode": {
    "name": "ipython",
    "version": 3
   },
   "file_extension": ".py",
   "mimetype": "text/x-python",
   "name": "python",
   "nbconvert_exporter": "python",
   "pygments_lexer": "ipython3",
   "version": "3.9.20"
  }
 },
 "nbformat": 4,
 "nbformat_minor": 5
}
