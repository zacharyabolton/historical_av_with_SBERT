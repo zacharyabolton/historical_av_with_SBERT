{
 "cells": [
  {
   "cell_type": "code",
   "execution_count": 1,
   "id": "427a3486-7e2c-4f93-96b4-f4ab01ecdbc6",
   "metadata": {},
   "outputs": [],
   "source": [
    "import os\n",
    "import pandas as pd\n",
    "\n",
    "df = pd.DataFrame(columns=['file', 'num_words'])\n",
    "\n",
    "class_dir = '../data/cleaned/notA'\n",
    "output_file_name = 'notA_num_words_table'\n",
    "\n",
    "for file in os.listdir(class_dir):\n",
    "    if file.endswith('.txt'):\n",
    "        with open(os.path.join(class_dir, file)) as f:\n",
    "            text = f.read()\n",
    "            words = text.split()\n",
    "            num_words = len(words)\n",
    "            row = pd.DataFrame({'file': [file], 'num_words': [num_words]})\n",
    "            df = pd.concat([df, row])\n",
    "\n",
    "with open(f'../{output_file_name}.md', 'w') as f:\n",
    "    f.write(df.to_markdown())"
   ]
  },
  {
   "cell_type": "code",
   "execution_count": 2,
   "id": "9111b24d-1975-40e4-9470-5930d59244cd",
   "metadata": {},
   "outputs": [
    {
     "data": {
      "text/plain": [
       "1879020"
      ]
     },
     "execution_count": 2,
     "metadata": {},
     "output_type": "execute_result"
    }
   ],
   "source": [
    "sum(df['num_words'])"
   ]
  }
 ],
 "metadata": {
  "kernelspec": {
   "display_name": "Historical AV with SBERT Project Specific Kernel",
   "language": "python",
   "name": "historical_av_with_sbert-env"
  },
  "language_info": {
   "codemirror_mode": {
    "name": "ipython",
    "version": 3
   },
   "file_extension": ".py",
   "mimetype": "text/x-python",
   "name": "python",
   "nbconvert_exporter": "python",
   "pygments_lexer": "ipython3",
   "version": "3.9.20"
  }
 },
 "nbformat": 4,
 "nbformat_minor": 5
}
