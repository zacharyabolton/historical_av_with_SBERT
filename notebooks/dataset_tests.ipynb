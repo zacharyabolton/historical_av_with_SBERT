{
 "cells": [
  {
   "cell_type": "code",
   "execution_count": 1,
   "id": "5bc9b9a1-6d55-41b9-bca4-8d87c3e727ce",
   "metadata": {},
   "outputs": [],
   "source": [
    "import os\n",
    "import sys\n",
    "import shutil\n",
    "from definitions import ROOT_DIR\n",
    "\n",
    "# Add scripts directory to sys.path\n",
    "# Adapted from Taras Alenin's answer on StackOverflow at:\n",
    "# https://stackoverflow.com/a/55623567\n",
    "scripts_path = os.path.join(ROOT_DIR, 'scripts')\n",
    "if scripts_path not in sys.path:\n",
    "    sys.path.insert(0, scripts_path)\n",
    "\n",
    "# Import custom modules\n",
    "from text_preprocessor import preprocess  # noqa: E402"
   ]
  },
  {
   "cell_type": "code",
   "execution_count": 2,
   "id": "93cbe8a4-2248-44b8-8a1e-653c94026c38",
   "metadata": {},
   "outputs": [],
   "source": [
    "test_dir = '../data/test'\n",
    "preprocessing_test_dir = os.path.join(test_dir, 'preprocessing_test_data')\n",
    "\n",
    "# Adapted from: https://stackoverflow.com/a/13118112\n",
    "shutil.rmtree(preprocessing_test_dir, ignore_errors=True)\n",
    "os.mkdir(preprocessing_test_dir)"
   ]
  },
  {
   "cell_type": "code",
   "execution_count": 3,
   "id": "738587bc-1450-475a-9737-78655f4aaf4e",
   "metadata": {},
   "outputs": [],
   "source": [
    "cleaned_dir = os.path.join(preprocessing_test_dir, 'cleaned')\n",
    "os.mkdir(cleaned_dir)"
   ]
  },
  {
   "cell_type": "code",
   "execution_count": 4,
   "id": "9a0b90df-1ff9-4bca-8ccd-97ef6b83b1c6",
   "metadata": {},
   "outputs": [],
   "source": [
    "A_dir = os.path.join(cleaned_dir, 'A')\n",
    "notA_dir = os.path.join(cleaned_dir, 'notA')\n",
    "U_dir = os.path.join(cleaned_dir, 'U')\n",
    "\n",
    "os.mkdir(A_dir)\n",
    "os.mkdir(notA_dir)\n",
    "os.mkdir(U_dir)"
   ]
  },
  {
   "cell_type": "code",
   "execution_count": 5,
   "id": "26209dd6-4fea-4e47-9b50-57a994fbef2e",
   "metadata": {},
   "outputs": [],
   "source": [
    "test_contents = [\n",
    "    'here is some text that should not be touched',           # A-0.txt\n",
    "    'Here is some text that should be touched',               # A-1.txt\n",
    "    'here are s0me 1ntegers',                                 # A-2.txt\n",
    "    'and sp*c|al cháracter$',                                 # A-3.txt\n",
    "    \"\"\"here\n",
    "    is  some     white space\"\"\",                              # U-0.txt\n",
    "    'and back to untouched text',                             # U-1.txt\n",
    "    \"\"\"\n",
    "    White space\n",
    "    CAPITALIZATIONS\n",
    "    **and special chars**!@#$%^&*()_-+=\\\\|~`\n",
    "    \"\"\",                                                      # U-2.txt\n",
    "    'white space      and CAPITALIZATIONS',                   # U-3.txt\n",
    "    'white space and special chars %#^&!@*!',              # notA-0.txt\n",
    "    'CAPS and spe^#@&@*!*(!cial ch372ars ',                # notA-1.txt\n",
    "    '',                                                    # notA-2.txt\n",
    "    ' - -------'                                             # notA-3.txt\n",
    "]"
   ]
  },
  {
   "cell_type": "code",
   "execution_count": 6,
   "id": "c50d1bd6-9b5f-410a-af10-27418dec8b86",
   "metadata": {},
   "outputs": [],
   "source": [
    "num_files = 4\n",
    "canonical_class_labels = sorted(os.listdir(cleaned_dir))\n",
    "for i, canonical_class in enumerate(canonical_class_labels):\n",
    "    for j, test_file in enumerate(range(num_files)):\n",
    "        file_name = f\"{canonical_class}-{test_file}.txt\"\n",
    "        file_path = os.path.join(cleaned_dir, canonical_class, file_name)\n",
    "        with open(file_path, 'w') as f:\n",
    "            f.write(test_contents[i * num_files + j])"
   ]
  },
  {
   "cell_type": "code",
   "execution_count": 7,
   "id": "31f81a53-479d-4493-9b39-725dc5bb6e1f",
   "metadata": {},
   "outputs": [],
   "source": [
    "preprocess(preprocessing_test_dir, canonical_class_labels)"
   ]
  },
  {
   "cell_type": "code",
   "execution_count": 8,
   "id": "4c9f7a8a-697b-4d19-848d-953166bd7d3f",
   "metadata": {},
   "outputs": [],
   "source": [
    "expected_output_dir = os.path.join(preprocessing_test_dir, 'preprocessed')\n",
    "expected_output = [\n",
    "    'here is some text that should not be touched',           # A-0.txt\n",
    "    'here is some text that should be touched',               # A-1.txt\n",
    "    'here are s0me 1ntegers',                                 # A-2.txt\n",
    "    'and spcal chracter',                                     # A-3.txt\n",
    "    'here is some white space',                               # U-0.txt\n",
    "    'and back to untouched text',                             # U-1.txt\n",
    "    'white space capitalizations and special chars',          # U-2.txt\n",
    "    'white space and capitalizations',                        # U-3.txt\n",
    "    'white space and special chars',                       # notA-0.txt\n",
    "    'caps and special ch372ars',                           # notA-1.txt\n",
    "    '',                                                    # notA-2.txt\n",
    "    ''                                                     # notA-3.txt\n",
    "]"
   ]
  },
  {
   "cell_type": "code",
   "execution_count": 9,
   "id": "ec2e2b7a-464f-4ada-8e34-982714bdcf2a",
   "metadata": {},
   "outputs": [],
   "source": [
    "assert os.path.isdir(expected_output_dir), True"
   ]
  },
  {
   "cell_type": "code",
   "execution_count": 10,
   "id": "8b653bde-bd1f-46ed-bf88-91825d38672f",
   "metadata": {},
   "outputs": [
    {
     "name": "stdout",
     "output_type": "stream",
     "text": [
      "Actual orig: 'here is some text that should not be touched'\n",
      "Actual prep: 'here is some text that should not be touched'\n",
      "Actual orig: 'here is some text that should be touched'\n",
      "Actual prep: 'here is some text that should be touched'\n",
      "Actual orig: 'here are s0me 1ntegers'\n",
      "Actual prep: 'here are s0me 1ntegers'\n",
      "Actual orig: 'and spcal chracter'\n",
      "Actual prep: 'and spcal chracter'\n",
      "Actual orig: 'here is some white space'\n",
      "Actual prep: 'here is some white space'\n",
      "Actual orig: 'and back to untouched text'\n",
      "Actual prep: 'and back to untouched text'\n",
      "Actual orig: 'white space capitalizations and special chars'\n",
      "Actual prep: 'white space capitalizations and special chars'\n",
      "Actual orig: 'white space and capitalizations'\n",
      "Actual prep: 'white space and capitalizations'\n",
      "Actual orig: 'white space and special chars'\n",
      "Actual prep: 'white space and special chars'\n",
      "Actual orig: 'caps and special ch372ars'\n",
      "Actual prep: 'caps and special ch372ars'\n",
      "Actual orig: ''\n",
      "Actual prep: ''\n",
      "Actual orig: ''\n",
      "Actual prep: ''\n"
     ]
    }
   ],
   "source": [
    "for i, canonical_class in enumerate(canonical_class_labels):\n",
    "    assert os.path.isdir(\n",
    "        os.path.join(expected_output_dir, canonical_class)), True\n",
    "    for j, test_file in enumerate(range(num_files)):\n",
    "        file_name = f\"{canonical_class}-{test_file}.txt\"\n",
    "        file_path = os.path.join(expected_output_dir, canonical_class, file_name)\n",
    "        assert os.path.exists(file_path), True\n",
    "        with open(file_path, 'r') as f:\n",
    "            contents = f.read()\n",
    "            # Adapted from: https://stackoverflow.com/a/11587247\n",
    "            try:\n",
    "                assert (expected_output[i * num_files + j] == contents), True\n",
    "            except AssertionError:\n",
    "                print(f\"\"\"\n",
    "                NOT EQUAL\n",
    "                File: {file_name}\n",
    "                Expected: {expected_output[i * num_files + j]}\n",
    "                Got: {contents}\"\"\")"
   ]
  },
  {
   "cell_type": "code",
   "execution_count": null,
   "id": "4be45eb0-99de-4ade-8a7f-12e7cdfbe7c5",
   "metadata": {},
   "outputs": [],
   "source": []
  }
 ],
 "metadata": {
  "kernelspec": {
   "display_name": "Historical AV with SBERT Project Specific Kernel",
   "language": "python",
   "name": "historical_av_with_sbert-env"
  },
  "language_info": {
   "codemirror_mode": {
    "name": "ipython",
    "version": 3
   },
   "file_extension": ".py",
   "mimetype": "text/x-python",
   "name": "python",
   "nbconvert_exporter": "python",
   "pygments_lexer": "ipython3",
   "version": "3.9.20"
  }
 },
 "nbformat": 4,
 "nbformat_minor": 5
}
