{
 "cells": [
  {
   "cell_type": "code",
   "execution_count": 8,
   "id": "a4dda5d9-0b67-433f-8c7e-ef44a30267e8",
   "metadata": {},
   "outputs": [],
   "source": [
    "from sentence_transformers import SentenceTransformer, InputExample, losses\n",
    "from torch.utils.data import DataLoader\n",
    "import torch\n",
    "import torch.nn as nn\n",
    "\n",
    "class SiameseClassifier(nn.Module):\n",
    "    def __init__(self, base_model='all-MiniLM-L12-v2'):\n",
    "        super().__init__()\n",
    "        self.bert = SentenceTransformer(base_model)\n",
    "        # The input size will be 3x the embedding dimension because we concatenate\n",
    "        # U, V, and |U-V|\n",
    "        embedding_dim = self.bert.get_sentence_embedding_dimension()\n",
    "        self.classifier = nn.Sequential(\n",
    "            nn.Linear(embedding_dim * 3, 2),  # Binary classification\n",
    "            nn.Softmax(dim=1)\n",
    "        )\n",
    "    \n",
    "    def forward(self, text_a, text_b):\n",
    "        # Generate embeddings\n",
    "        u = self.bert.encode(text_a)\n",
    "        v = self.bert.encode(text_b)\n",
    "        \n",
    "        # Create concatenated feature vector\n",
    "        abs_diff = torch.abs(u - v)\n",
    "        combined = torch.cat((u, v, abs_diff), dim=1)\n",
    "        \n",
    "        # Pass through classifier\n",
    "        return self.classifier(combined)\n",
    "        \n",
    "model = SiameseClassifier()"
   ]
  },
  {
   "cell_type": "code",
   "execution_count": 5,
   "id": "e80669c9-678b-46b8-8f5d-0bc5f952d334",
   "metadata": {},
   "outputs": [],
   "source": [
    "# This creates pairs of texts we want to compare\n",
    "training_examples = [\n",
    "    # Known same author (label=1)\n",
    "    InputExample(texts=['LaSalle text 1', 'LaSalle text 2'], label=1.0),\n",
    "    # Known different authors (label=0) \n",
    "    InputExample(texts=['LaSalle text', 'Imposter text'], label=0.0)\n",
    "]\n",
    "\n",
    "# We use a special DataLoader that handles pairs\n",
    "train_dataloader = DataLoader(training_examples, shuffle=True, batch_size=16)"
   ]
  },
  {
   "cell_type": "code",
   "execution_count": null,
   "id": "8142a06a-4682-4c04-9d2e-b778addd3af0",
   "metadata": {},
   "outputs": [],
   "source": []
  },
  {
   "cell_type": "code",
   "execution_count": null,
   "id": "eace663c-99e1-43ab-8dea-d5dcdd796d0c",
   "metadata": {},
   "outputs": [],
   "source": []
  }
 ],
 "metadata": {
  "kernelspec": {
   "display_name": "Historical AV with SBERT Project Specific Kernel",
   "language": "python",
   "name": "historical_av_with_sbert-env"
  },
  "language_info": {
   "codemirror_mode": {
    "name": "ipython",
    "version": 3
   },
   "file_extension": ".py",
   "mimetype": "text/x-python",
   "name": "python",
   "nbconvert_exporter": "python",
   "pygments_lexer": "ipython3",
   "version": "3.9.20"
  }
 },
 "nbformat": 4,
 "nbformat_minor": 5
}
