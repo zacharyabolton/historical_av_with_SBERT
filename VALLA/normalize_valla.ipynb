{
 "cells": [
  {
   "cell_type": "code",
   "execution_count": 1,
   "id": "19ee3b18-d0f3-47a2-9913-4874115b3a11",
   "metadata": {},
   "outputs": [],
   "source": [
    "import pandas as pd\n",
    "from constants import ROOT_DIR\n",
    "import sys\n",
    "import os\n",
    "\n",
    "# Add scripts directory to sys.path\n",
    "# Adapted from Taras Alenin's answer on StackOverflow at:\n",
    "# https://stackoverflow.com/a/55623567\n",
    "scripts_path = os.path.join(ROOT_DIR, 'scripts')\n",
    "if scripts_path not in sys.path:\n",
    "    sys.path.insert(0, scripts_path)\n",
    "\n",
    "from text_normalizer import remove_non_alphanum_symbols  # noqa: E402"
   ]
  },
  {
   "cell_type": "code",
   "execution_count": 5,
   "id": "ad787ba6-a865-49d9-9886-ba0de29db5c0",
   "metadata": {},
   "outputs": [],
   "source": [
    "path_to_train_csv = './data/pan20-authorship-verification-training-small/processed/small/pan20_train.csv'\n",
    "path_to_val_csv = './data/pan20-authorship-verification-training-small/processed/small/pan20_AV_val.csv'"
   ]
  },
  {
   "cell_type": "code",
   "execution_count": 6,
   "id": "a9a4cc2f-d18b-4867-87c5-a653d7da0d55",
   "metadata": {},
   "outputs": [],
   "source": [
    "df_train = pd.read_csv(path_to_train_csv, index_col=None)\n",
    "df_val = pd.read_csv(path_to_val_csv, index_col=None)"
   ]
  },
  {
   "cell_type": "code",
   "execution_count": 7,
   "id": "7779bed1-a74a-4e2c-bebd-7ab444361625",
   "metadata": {},
   "outputs": [],
   "source": [
    "df_train['text'] = df_train['text'].str.lower()\n",
    "df_val['text1'] = df_val['text1'].str.lower()\n",
    "df_val['text2'] = df_val['text2'].str.lower()\n",
    "df_train['text'] = df_train['text'].apply(remove_non_alphanum_symbols)\n",
    "df_val['text1'] = df_val['text1'].apply(remove_non_alphanum_symbols)\n",
    "df_val['text2'] = df_val['text2'].apply(remove_non_alphanum_symbols)"
   ]
  },
  {
   "cell_type": "code",
   "execution_count": 8,
   "id": "95159fd2-cadf-4934-8f1c-1eab21343aa0",
   "metadata": {},
   "outputs": [],
   "source": [
    "path_to_train_undistorted = './data/pan20-authorship-verification-training-small/processed/small/pan20_train_undistorted.csv'\n",
    "path_to_val_undistorted = './data/pan20-authorship-verification-training-small/processed/small/pan20_val_undistorted.csv'\n",
    "df_train.to_csv(path_to_train_undistorted, index=False)\n",
    "df_val.to_csv(path_to_val_undistorted, index=False)"
   ]
  }
 ],
 "metadata": {
  "kernelspec": {
   "display_name": "Historical AV with SBERT Project Specific Kernel",
   "language": "python",
   "name": "historical_av_with_sbert-env"
  },
  "language_info": {
   "codemirror_mode": {
    "name": "ipython",
    "version": 3
   },
   "file_extension": ".py",
   "mimetype": "text/x-python",
   "name": "python",
   "nbconvert_exporter": "python",
   "pygments_lexer": "ipython3",
   "version": "3.9.20"
  }
 },
 "nbformat": 4,
 "nbformat_minor": 5
}
