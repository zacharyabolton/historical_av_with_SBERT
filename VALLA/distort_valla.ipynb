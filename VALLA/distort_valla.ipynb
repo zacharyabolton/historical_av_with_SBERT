{
 "cells": [
  {
   "cell_type": "code",
   "execution_count": 1,
   "id": "faa44a49-6102-4f65-ad2c-bcdc3ffb2401",
   "metadata": {},
   "outputs": [],
   "source": [
    "import pandas as pd\n",
    "from constants import ROOT_DIR\n",
    "import sys\n",
    "import os\n",
    "from nltk.probability import FreqDist\n",
    "\n",
    "# Add scripts directory to sys.path\n",
    "# Adapted from Taras Alenin's answer on StackOverflow at:\n",
    "# https://stackoverflow.com/a/55623567\n",
    "scripts_path = os.path.join(ROOT_DIR, 'scripts')\n",
    "if scripts_path not in sys.path:\n",
    "    sys.path.insert(0, scripts_path)\n",
    "\n",
    "from text_distorter import dv_ma  # noqa: E402"
   ]
  },
  {
   "cell_type": "code",
   "execution_count": 2,
   "id": "ca3d416e-22a0-4d32-9f72-61df95a8945b",
   "metadata": {},
   "outputs": [],
   "source": [
    "path_to_train_undistorted = './data/pan20-authorship-verification-training-small/processed/small/pan20_train_undistorted.csv'\n",
    "path_to_val_undistorted = './data/pan20-authorship-verification-training-small/processed/small/pan20_val_undistorted.csv'\n",
    "df_train = pd.read_csv(path_to_train_undistorted, index_col=None)\n",
    "df_val = pd.read_csv(path_to_val_undistorted, index_col=None)"
   ]
  },
  {
   "cell_type": "code",
   "execution_count": 3,
   "id": "eeaa7133-2858-405d-9b26-ea4e3e302ff9",
   "metadata": {},
   "outputs": [],
   "source": [
    "fdist = FreqDist()\n",
    "\n",
    "for text in df_train['text']:\n",
    "    words = text.split()\n",
    "    for word in words:\n",
    "        fdist[word] += 1\n",
    "\n",
    "for text in df_val['text1']:\n",
    "    words = text.split()\n",
    "    for word in words:\n",
    "        fdist[word] += 1\n",
    "\n",
    "for text in df_val['text2']:\n",
    "    words = text.split()\n",
    "    for word in words:\n",
    "        fdist[word] += 1"
   ]
  },
  {
   "cell_type": "code",
   "execution_count": 4,
   "id": "538e7b39-1bc4-4496-ae5f-ae9275ab9fa6",
   "metadata": {},
   "outputs": [
    {
     "name": "stdout",
     "output_type": "stream",
     "text": [
      "starting k = 20000\n",
      "saved train\n",
      "saved val\n",
      "starting k = 3000\n",
      "saved train\n",
      "saved val\n",
      "starting k = 300\n",
      "saved train\n",
      "saved val\n"
     ]
    }
   ],
   "source": [
    "for k in [20000, 3000, 300]:\n",
    "    print('starting k =', k)\n",
    "    path_to_train_distorted = f'./data/pan20-authorship-verification-training-small/processed/small/pan20_train_DV_MA_k_{k}.csv'\n",
    "    path_to_val_distorted = f'./data/pan20-authorship-verification-training-small/processed/small/pan20_val_DV_MA_k_{k}.csv'\n",
    "    W_k = dict(fdist.most_common(n=k)).keys()\n",
    "    # Adapted from:\n",
    "    # https://stackoverflow.com/a/34279543\n",
    "    df_distorted = df_train.copy(True)\n",
    "    for i in range(len(df_distorted)):\n",
    "        df_distorted.loc[i, 'text'] = dv_ma(df_distorted.loc[i, 'text'], W_k)\n",
    "    df_distorted.to_csv(path_to_train_distorted)\n",
    "    print('saved train')\n",
    "\n",
    "    df_distorted = df_val.copy(True)\n",
    "    for i in range(len(df_distorted)):\n",
    "        df_distorted.loc[i, 'text1'] = dv_ma(df_distorted.loc[i, 'text1'], W_k)\n",
    "        df_distorted.loc[i, 'text2'] = dv_ma(df_distorted.loc[i, 'text2'], W_k)\n",
    "    df_distorted.to_csv(path_to_val_distorted)\n",
    "    print('saved val')"
   ]
  },
  {
   "cell_type": "code",
   "execution_count": 5,
   "id": "04e3d57e-2f7f-4885-9f85-f1590a0c2b87",
   "metadata": {},
   "outputs": [],
   "source": [
    "k_20000_train_path = './data/pan20-authorship-verification-training-small/processed/small/pan20_train_DV_MA_k_20000.csv'\n",
    "k_20000_val_path = './data/pan20-authorship-verification-training-small/processed/small/pan20_val_DV_MA_k_20000.csv'\n",
    "k_3000_train_path = './data/pan20-authorship-verification-training-small/processed/small/pan20_train_DV_MA_k_3000.csv'\n",
    "k_3000_val_path = './data/pan20-authorship-verification-training-small/processed/small/pan20_val_DV_MA_k_3000.csv'\n",
    "k_300_train_path = './data/pan20-authorship-verification-training-small/processed/small/pan20_train_DV_MA_k_300.csv'\n",
    "k_300_val_path = './data/pan20-authorship-verification-training-small/processed/small/pan20_val_DV_MA_k_300.csv'\n",
    "undistorted_train_path = './data/pan20-authorship-verification-training-small/processed/small/pan20_train_undistorted.csv'\n",
    "undistorted_val_path = './data/pan20-authorship-verification-training-small/processed/small/pan20_val_undistorted.csv'"
   ]
  },
  {
   "cell_type": "code",
   "execution_count": 6,
   "id": "48c409a6-8c40-4af0-8df0-db4d1c69e301",
   "metadata": {},
   "outputs": [],
   "source": [
    "k_20000_train_df = pd.read_csv(k_20000_train_path, index_col=None)\n",
    "k_20000_val_df = pd.read_csv(k_20000_val_path, index_col=None)\n",
    "k_3000_train_df = pd.read_csv(k_3000_train_path, index_col=None)\n",
    "k_3000_val_df = pd.read_csv(k_3000_val_path, index_col=None)\n",
    "k_300_train_df = pd.read_csv(k_300_train_path, index_col=None)\n",
    "k_300_val_df = pd.read_csv(k_300_val_path, index_col=None)\n",
    "undistorted_train_df = pd.read_csv(undistorted_train_path, index_col=None)\n",
    "undistorted_val_df = pd.read_csv(undistorted_val_path, index_col=None)"
   ]
  },
  {
   "cell_type": "code",
   "execution_count": 7,
   "id": "570d3fe9-271a-4e98-abc0-f295ed2717a8",
   "metadata": {},
   "outputs": [
    {
     "name": "stdout",
     "output_type": "stream",
     "text": [
      "crack the sun burst just missed blooms head as she made a last minute dodge good good faster yelled sky from the ground winking at her the boys were all in sun ******** watching their girlfriends practise the rest of the **** flew opposite of her grinning teasing her they were training like clover had asked catch me if you can bloom yelled oh your on cried musa as they raced green ivy flora yelled green ivy began to climb towards bloom dragon of nature bloom cried sending a ball of fire at the ivy sending it back to the ground they had discovered whilst they were training bloom had many other powers bird ****** roxy cried sending a flock of birds at bloom when bloom reappeared she was spitting out feathers the girls finding this extremely funny dropped their guard dragon ball bloom yelled a great white hot ball flew from her hands world wide web yelled tecna shielding the other girls this made bloom think of clover when she saved them from the **** the laughter on her face disappeared \n",
      "grantaire snorted im surprised you even noticed they were on stage seriously combeferre you dont do anything by halves do you when you get obsessed with something you really get obsessed i could practically see your eyes turning into throbbing hearts arent you a little old for celebrity crushes combeferre winced but didnt rise to ********** ******* it would be too hard to explain would require too much backstory that he didnt want to share to get grantaire to understand that this wasnt precisely a crush it was more than that sitting in the front row heart in his throat and hands twisting in his lap with the need to do something anything with the emotions raging through him combeferre suddenly felt a desire to do something that he hadnt done in years not since courfeyrac had left the states to play the phantom in the west end combeferre pulled out his phone and opened his twitter *** courfeyrac had already ******* ive missed doing this show live so much what a cast what an audience ****\n",
      "***** shrugs nope wheres the fun in that crutchie sighs damn it claude leans over towards nuriko ok maybe its just me but does it seem to you like shes letting him off awfully easy nuriko ***** still out on that one im honestly not sure she seems to be putting him through the ****** claude i dont know for some reason she seems to have a soft spot for him i cant put a finger on it dude crutchie ***** this is her having a soft spot for me d nuriko snickers uh yes that would be the appropriate reaction ***** oh for goodness sake you people are hopeless and so am i this is the best i can do pfft im pulling the plug on this before it gets any more pathetic p questions comments ********* pizza summary ************ anyone whod ever been in the same room with them knew how crutchie felt about jack and after ********* arrest how jack felt about crutchie was equally obvious unfortunately for them however the only ones who didnt know those things were jack and crutchie ************ *********** ##\n",
      "crack the sun burst just missed ****** head as she made a last minute ***** good good faster yelled sky from the ground ******* at her the boys were all in sun ******** watching their *********** ******** the rest of the **** flew opposite of her grinning teasing her they were training like ****** had asked catch me if you can ***** yelled oh your on cried **** as they raced green *** ***** yelled green *** began to climb towards ***** dragon of nature ***** cried sending a ball of fire at the *** sending it back to the ground they had discovered whilst they were training ***** had many other powers bird ****** **** cried sending a ***** of ***** at ***** when ***** ********** she was ******** out ******** the girls finding this extremely funny dropped their guard dragon ball ***** yelled a great white hot ball flew from her hands world wide *** yelled ***** ********* the other girls this made ***** think of ****** when she saved them from the **** the laughter on her face disappeared \n",
      "********* snorted im surprised you even noticed they were on stage seriously ********** you dont do anything by ****** do you when you get ******** with something you really get ******** i could practically see your eyes turning into ********* hearts arent you a little old for ********* ******* ********** winced but didnt rise to ********** ******* it would be too hard to explain would ******* too much ********* that he didnt want to share to get ********* to understand that this wasnt ********* a crush it was more than that sitting in the front *** heart in his throat and hands ******** in his lap with the need to do something anything with the emotions ****** through him ********** suddenly felt a desire to do something that he hadnt done in years not since ********** had left the ****** to play the ******* in the **** end ********** pulled out his phone and opened his ******* *** ********** had already ******* ive missed doing this show live so much what a cast what an ******** ****\n",
      "***** ****** nope wheres the fun in that ******** sighs damn it ****** ***** over towards ****** ok maybe its just me but does it seem to you like shes letting him off ******* easy ****** ***** still out on that one im honestly not sure she seems to be putting him through the ****** ****** i dont know for some reason she seems to have a soft spot for him i cant put a finger on it dude ******** ***** this is her having a soft spot for me d ****** ******** uh yes that would be the *********** reaction ***** oh for ******** sake you people are ******** and so am i this is the best i can do **** im pulling the **** on this before it gets any more pathetic * questions comments ********* ***** ******* ************ anyone **** ever been in the same room with them knew how ******** felt about jack and after ********* ****** how jack felt about ******** was ******* obvious unfortunately for them however the only ones who didnt know those things were jack and ******** ************ *********** ##\n",
      "***** the *** ***** just ****** ****** head as she made a last ****** ***** good good ****** ****** *** from the ****** ******* at her the **** were all in *** ******** ******** their *********** ******** the **** of the **** **** ******** of her ******** ******* her they were ******** like ****** had asked ***** me if you can ***** ****** oh your on ***** **** as they ***** ***** *** ***** ****** ***** *** began to ***** towards ***** ****** of ****** ***** ***** ******* a **** of **** at the *** ******* it back to the ****** they had ********** ****** they were ******** ***** had **** other ****** **** ****** **** ***** ******* a ***** of ***** at ***** when ***** ********** she was ******** out ******** the ***** ******* this ********* ***** ******* their ***** ****** **** ***** ****** a ***** ***** *** **** **** from her hands ***** **** *** ****** ***** ********* the other ***** this made ***** think of ****** when she ***** them from the **** the ******** on her face *********** \n",
      "********* ******* im ********* you even ******* they were on ***** ********* ********** you dont do anything by ****** do you when you get ******** with something you really get ******** i could *********** see your eyes ******* into ********* ****** ***** you a little old for ********* ******* ********** ****** but didnt **** to ********** ******* it would be too hard to ******* would ******* too much ********* that he didnt want to ***** to get ********* to ********** that this wasnt ********* a ***** it was more than that ******* in the front *** heart in his ****** and hands ******** in his *** with the need to do something anything with the ******** ****** through him ********** suddenly felt a ****** to do something that he ***** done in ***** not since ********** had left the ****** to **** the ******* in the **** end ********** pulled out his ***** and opened his ******* *** ********** had already ******* ive ****** doing this **** **** so much what a **** what an ******** ****\n",
      "***** ****** **** ****** the *** in that ******** ***** **** it ****** ***** over towards ****** ** maybe its just me but **** it **** to you like shes ******* him off ******* **** ****** ***** still out on that one im ******** not sure she ***** to be ******* him through the ****** ****** i dont know for some ****** she ***** to have a **** **** for him i cant put a ****** on it **** ******** ***** this is her ****** a **** **** for me * ****** ******** ** yes that would be the *********** ******** ***** oh for ******** **** you people are ******** and so am i this is the best i can do **** im ******* the **** on this before it **** any more ******** * ********* ******** ********* ***** ******* ************ ****** **** ever been in the same room with them knew how ******** felt about **** and after ********* ****** how **** felt about ******** was ******* ******* ************* for them ******* the only **** who didnt know those things were **** and ******** ************ *********** ##\n",
      "crack the sun burst just missed blooms head as she made a last minute dodge good good faster yelled sky from the ground winking at her the boys were all in sun loungers watching their girlfriends practise the rest of the winx flew opposite of her grinning teasing her they were training like clover had asked catch me if you can bloom yelled oh your on cried musa as they raced green ivy flora yelled green ivy began to climb towards bloom dragon of nature bloom cried sending a ball of fire at the ivy sending it back to the ground they had discovered whilst they were training bloom had many other powers bird panick roxy cried sending a flock of birds at bloom when bloom reappeared she was spitting out feathers the girls finding this extremely funny dropped their guard dragon ball bloom yelled a great white hot ball flew from her hands world wide web yelled tecna shielding the other girls this made bloom think of clover when she saved them from the trix the laughter on her face disappeared \n",
      "grantaire snorted im surprised you even noticed they were on stage seriously combeferre you dont do anything by halves do you when you get obsessed with something you really get obsessed i could practically see your eyes turning into throbbing hearts arent you a little old for celebrity crushes combeferre winced but didnt rise to grantaires baiting it would be too hard to explain would require too much backstory that he didnt want to share to get grantaire to understand that this wasnt precisely a crush it was more than that sitting in the front row heart in his throat and hands twisting in his lap with the need to do something anything with the emotions raging through him combeferre suddenly felt a desire to do something that he hadnt done in years not since courfeyrac had left the states to play the phantom in the west end combeferre pulled out his phone and opened his twitter app courfeyrac had already tweeted ive missed doing this show live so much what a cast what an audience humb\n",
      "rchan shrugs nope wheres the fun in that crutchie sighs damn it claude leans over towards nuriko ok maybe its just me but does it seem to you like shes letting him off awfully easy nuriko jurys still out on that one im honestly not sure she seems to be putting him through the ringer claude i dont know for some reason she seems to have a soft spot for him i cant put a finger on it dude crutchie gapes this is her having a soft spot for me d nuriko snickers uh yes that would be the appropriate reaction rchan oh for goodness sake you people are hopeless and so am i this is the best i can do pfft im pulling the plug on this before it gets any more pathetic p questions comments pepperoni pizza summary musicalverse anyone whod ever been in the same room with them knew how crutchie felt about jack and after crutchies arrest how jack felt about crutchie was equally obvious unfortunately for them however the only ones who didnt know those things were jack and crutchie jackcrutchie postmusical 11\n"
     ]
    }
   ],
   "source": [
    "print(k_20000_train_df.iloc[0]['text'][:1000])\n",
    "print(k_20000_val_df.iloc[0]['text1'][:1000])\n",
    "print(k_20000_val_df.iloc[0]['text2'][:1000])\n",
    "print(k_3000_train_df.iloc[0]['text'][:1000])\n",
    "print(k_3000_val_df.iloc[0]['text1'][:1000])\n",
    "print(k_3000_val_df.iloc[0]['text2'][:1000])\n",
    "print(k_300_train_df.iloc[0]['text'][:1000])\n",
    "print(k_300_val_df.iloc[0]['text1'][:1000])\n",
    "print(k_300_val_df.iloc[0]['text2'][:1000])\n",
    "print(undistorted_train_df.iloc[0]['text'][:1000])\n",
    "print(undistorted_val_df.iloc[0]['text1'][:1000])\n",
    "print(undistorted_val_df.iloc[0]['text2'][:1000])"
   ]
  },
  {
   "cell_type": "code",
   "execution_count": null,
   "id": "13b3f5d0-92c6-49ca-8acd-c3911e1063da",
   "metadata": {},
   "outputs": [],
   "source": []
  }
 ],
 "metadata": {
  "kernelspec": {
   "display_name": "Historical AV with SBERT Project Specific Kernel",
   "language": "python",
   "name": "historical_av_with_sbert-env"
  },
  "language_info": {
   "codemirror_mode": {
    "name": "ipython",
    "version": 3
   },
   "file_extension": ".py",
   "mimetype": "text/x-python",
   "name": "python",
   "nbconvert_exporter": "python",
   "pygments_lexer": "ipython3",
   "version": "3.9.20"
  }
 },
 "nbformat": 4,
 "nbformat_minor": 5
}
