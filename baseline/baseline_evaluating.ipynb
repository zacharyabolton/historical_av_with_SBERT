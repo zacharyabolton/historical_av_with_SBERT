{
 "cells": [
  {
   "cell_type": "code",
   "execution_count": 49,
   "id": "7a0e80ba-9a86-400f-ad61-f201fad55e86",
   "metadata": {},
   "outputs": [],
   "source": [
    "import os\n",
    "import pandas as pd\n",
    "from pan22_verif_evaluator import evaluate_all\n",
    "from cngdist import correct_scores\n",
    "import numpy as np"
   ]
  },
  {
   "cell_type": "code",
   "execution_count": 75,
   "id": "284db2b6-122f-494e-b8ff-e3b5fe702792",
   "metadata": {},
   "outputs": [
    {
     "name": "stderr",
     "output_type": "stream",
     "text": [
      "/Users/zacbolton/dev/BSc/FP/historical_av_with_SBERT/venv/lib/python3.9/site-packages/sklearn/metrics/_classification.py:1531: UndefinedMetricWarning: F-score is ill-defined and being set to 0.0 due to no true nor predicted samples. Use `zero_division` parameter to control this behavior.\n",
      "  _warn_prf(average, modifier, f\"{metric.capitalize()} is\", len(result))\n",
      "/Users/zacbolton/dev/BSc/FP/historical_av_with_SBERT/venv/lib/python3.9/site-packages/sklearn/metrics/_classification.py:1531: UndefinedMetricWarning: F-score is ill-defined and being set to 0.0 due to no true nor predicted samples. Use `zero_division` parameter to control this behavior.\n",
      "  _warn_prf(average, modifier, f\"{metric.capitalize()} is\", len(result))\n",
      "/Users/zacbolton/dev/BSc/FP/historical_av_with_SBERT/venv/lib/python3.9/site-packages/sklearn/metrics/_classification.py:1531: UndefinedMetricWarning: F-score is ill-defined and being set to 0.0 due to no true nor predicted samples. Use `zero_division` parameter to control this behavior.\n",
      "  _warn_prf(average, modifier, f\"{metric.capitalize()} is\", len(result))\n",
      "/Users/zacbolton/dev/BSc/FP/historical_av_with_SBERT/venv/lib/python3.9/site-packages/sklearn/metrics/_classification.py:1531: UndefinedMetricWarning: F-score is ill-defined and being set to 0.0 due to no true nor predicted samples. Use `zero_division` parameter to control this behavior.\n",
      "  _warn_prf(average, modifier, f\"{metric.capitalize()} is\", len(result))\n",
      "/Users/zacbolton/dev/BSc/FP/historical_av_with_SBERT/venv/lib/python3.9/site-packages/sklearn/metrics/_classification.py:1531: UndefinedMetricWarning: F-score is ill-defined and being set to 0.0 due to no true nor predicted samples. Use `zero_division` parameter to control this behavior.\n",
      "  _warn_prf(average, modifier, f\"{metric.capitalize()} is\", len(result))\n"
     ]
    }
   ],
   "source": [
    "distortion_dirs = [\n",
    "    \"DV-MA-k-300\",\n",
    "    \"DV-MA-k-3000\",\n",
    "    \"DV-MA-k-20000\",\n",
    "    \"undistorted\"\n",
    "]\n",
    "\n",
    "params = pd.read_csv('training_metrics.csv')\n",
    "\n",
    "results = {\"Dataset\": [],\n",
    "           \"k\": [],\n",
    "           \"p1\": [],\n",
    "           \"p2\": [],\n",
    "           \"auc\": [],\n",
    "           \"c@1\": [],\n",
    "           \"f_05_u\": [],\n",
    "           \"F1\": [],\n",
    "           \"brier\": [],\n",
    "           \"overall\": []}\n",
    "num_splits = 5\n",
    "for distortion_dir in distortion_dirs:\n",
    "    for k in range(num_splits):\n",
    "        path_to_val_truths = f\"./data/validate/{distortion_dir}/k_{k}/truth.jsonl\"\n",
    "        path_to_val_preds = f\"./out/{distortion_dir}/k_{k}/answers.jsonl\"\n",
    "\n",
    "        row = params[(params['Dataset'] == distortion_dir) & (params['k'] == f'k_{k}')]\n",
    "        p1, p2 = row['p1'][row.index[0]], row['p2'][row.index[0]]\n",
    "\n",
    "        df_a = pd.read_json(path_to_val_preds, lines=True)['value']\n",
    "        similarities = df_a.tolist()\n",
    "        corrected_scores = np.array(\n",
    "            list(correct_scores(similarities, p1=p1, p2=p2)))\n",
    "\n",
    "        labels = pd.read_json(path_to_val_truths, lines=True)['same'].to_numpy()\n",
    "        score = evaluate_all(pred_y=corrected_scores, true_y=labels)\n",
    "        results[\"auc\"].append(score[\"auc\"])\n",
    "        results[\"c@1\"].append(score[\"c@1\"])\n",
    "        results[\"f_05_u\"].append(score[\"f_05_u\"])\n",
    "        results[\"F1\"].append(score[\"F1\"])\n",
    "        results[\"brier\"].append(score[\"brier\"])\n",
    "        results[\"overall\"].append(score[\"overall\"])\n",
    "        results['Dataset'].append(distortion_dir)\n",
    "        results['k'].append(f'k_{k}')\n",
    "        results['p1'].append(p1)\n",
    "        results['p2'].append(p2)\n",
    "results = pd.DataFrame(results)\n",
    "results.to_csv('validation_metrics.csv', index=False)"
   ]
  },
  {
   "cell_type": "code",
   "execution_count": null,
   "id": "dc4c59c0-3cd6-4262-86bb-94c0a9246f02",
   "metadata": {},
   "outputs": [],
   "source": []
  }
 ],
 "metadata": {
  "kernelspec": {
   "display_name": "Historical AV with SBERT Project Specific Kernel",
   "language": "python",
   "name": "historical_av_with_sbert-env"
  },
  "language_info": {
   "codemirror_mode": {
    "name": "ipython",
    "version": 3
   },
   "file_extension": ".py",
   "mimetype": "text/x-python",
   "name": "python",
   "nbconvert_exporter": "python",
   "pygments_lexer": "ipython3",
   "version": "3.9.20"
  }
 },
 "nbformat": 4,
 "nbformat_minor": 5
}
